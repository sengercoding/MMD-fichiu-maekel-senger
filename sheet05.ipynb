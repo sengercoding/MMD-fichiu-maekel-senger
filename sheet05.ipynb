{
 "cells": [
  {
   "cell_type": "markdown",
   "metadata": {},
   "source": [
    "# MMD 2024, Problem Sheet 5\n",
    "\n",
    "Group: Daniela Fichiu, Aaron Maekel, Manuel Senger"
   ]
  },
  {
   "cell_type": "markdown",
   "metadata": {},
   "source": [
    "# Exercise 1"
   ]
  },
  {
   "cell_type": "markdown",
   "metadata": {},
   "source": [
    "**Task:**List common mechanisms for resolving hash collisions and explain how key-value dictio-\n",
    "naries in C++, Java, and Python handle hash collisions, respectively.\n",
    "\n",
    "**Solution:**\n",
    "There are multiple mechanisms to solve this problem:\n",
    "\n",
    "=== OPEN ADDRESSING:\n",
    "\n",
    "    here you save for each cell if it is empty,occupied or deleted. If a hash collision would happen, it is noticed by the occupied flag for the corresponding cell, and another empty cell will be chosen (there are multiple ways to do this \"probing\" such as random, checking the next neighbour etc.).\n",
    "\n",
    "    \n",
    "=== SEPERATE CHAINING/OPEN HASHING:\n",
    "\n",
    "    each cell allows multiple entries aka a linked list.\n",
    "\n",
    "The Programming languages handle it in the following way:\n",
    "\n",
    "=== PYTHON\n",
    "\n",
    "    uses OPEN ADRESSING with pseudo random probing. It also resizes the dictionary if 2/3 of all entries are full, this negates the effect of a longer probing time.\n",
    "\n",
    "=== JAVA \n",
    "\n",
    "    uses OPEN HASHING;\n",
    "\n",
    "=== C++\n",
    "\n",
    "    seems to use OPEN HASHING"
   ]
  },
  {
   "cell_type": "markdown",
   "metadata": {},
   "source": [
    "# Exercise 2\n",
    "\n",
    "**Task**\n",
    "Read Section 2.7 of the book “Algorithms and Data Structures for Massive Datasets”\n",
    "(2022) by Dzejla Medjedovic and Emin Tahirovic1 about MurmurHash, along with the\n",
    "related materials linked in that section, and answer the following questions:\n"
   ]
  },
  {
   "cell_type": "markdown",
   "metadata": {},
   "source": [
    "\n",
    "**Task:**\n",
    "\n",
    "a) Explain MurmurHash and how the seed value creates independent hash functions\n",
    "\n",
    "**Solution\"**\n",
    "\n",
    " The algorithm works on 4bytes of the key at a time, these get multiplied by a constant and then bitshifted, the result is put into a XOR operator with the hash seed (which we initialise ourselves with some value) which also has some multiplications and additions after each XOR operator. This loop is done until the whole key was processed, which leaves us with our modified hash value."
   ]
  },
  {
   "cell_type": "markdown",
   "metadata": {},
   "source": [
    "**Task:** \n",
    "\n",
    "b) Hash functions can be vulnerable to collision attacks, where an attacker deliberately\n",
    "selects input data to generate hash collisions. Is MurmurHash suitable for applica-\n",
    "tions where collision resistance is critical? Explain your answer.\n",
    "\n",
    "**Solution:**\n",
    "\n",
    "it seems to be vulnerable to collision attacks (Source: wikipedia), this is why it is not suitable for applications where collision resistance is critical"
   ]
  },
  {
   "cell_type": "markdown",
   "metadata": {},
   "source": [
    "# Exercise 3"
   ]
  },
  {
   "cell_type": "markdown",
   "metadata": {},
   "source": [
    "**Task:** \n",
    "Suppose our stream consists of the integers 3, 1, 4, 1, 5, 9, 2, 6, 5. Our hash functions\n",
    "will all be of the form h(x) = (ax + b) mod 32 for some a and b. You should treat\n",
    "the result as a 5-bit binary integer. Determine (using a spreadsheet or a short program)\n",
    "the number of trailing zeros (the tail length) for each stream element and the resulting\n",
    "estimate of the number of distinct elements using the Flajolet-Martin algorithm if the\n",
    "hash function is:\n",
    "\n"
   ]
  },
  {
   "cell_type": "code",
   "execution_count": null,
   "metadata": {},
   "outputs": [
    {
     "name": "stdout",
     "output_type": "stream",
     "text": [
      "h_A   h_B   h_C\n",
      "00111 01001 01100\n",
      "00011 00011 00100\n",
      "01001 01100 10000\n",
      "00011 00011 00100\n",
      "01011 01111 10100\n",
      "10011 11011 00100\n",
      "00101 00110 01000\n",
      "01101 10010 11000\n",
      "01011 01111 10100\n"
     ]
    }
   ],
   "source": [
    "import numpy as np\n",
    "stream = np.array([3, 1, 4, 1, 5, 9, 2, 6, 5])\n",
    "\n",
    "#hash functions we have to test\n",
    "def h_a(x):\n",
    "    return (2*x+1) % 32\n",
    "def h_b(x):\n",
    "    return (3*x+7) % 32\n",
    "def h_c(x):\n",
    "    return (4*x) % 32\n",
    "\n",
    "print(\"h_A   h_B   h_C\")\n",
    "for i in stream:\n",
    "    print('{0:05b}'.format(h_a(i)),'{0:05b}'.format(h_b(i)),'{0:05b}'.format(h_c(i)))\n",
    " \n"
   ]
  },
  {
   "cell_type": "markdown",
   "metadata": {},
   "source": [
    "a) we can see that for hash function a no element has any trailing 0s, so the algorithm would give us 2^0=1 elements\n",
    "\n",
    "b) max_R=4 thus we have 2^4=16 Elements.\n",
    "\n",
    "c) max_R=4 thus we have 2^4=16 Elements."
   ]
  },
  {
   "cell_type": "markdown",
   "metadata": {},
   "source": [
    "**Bonustask:** Do you see any problems with the choice of the above hash\n",
    "functions? What advice could you give someone who was going to use a hash function\n",
    "of the form h(x) = (ax + b) mod 2^k, and why? \n",
    "\n",
    "**Solution:** Having   2^m for the variable a sets the last m digits to zero, which hardcodes a lower bound of 2^m for the estimator if there is no b. If another b is chosen which is smaller than 2^m, then this lower bound gets transformed into a smaller upper bound, as we can see in the first hashfunction. First every value has one trailing 0s after getting multiplied with 1, but then gets added 1 towards it, which results in every value ending with 1."
   ]
  },
  {
   "cell_type": "markdown",
   "metadata": {},
   "source": [
    "# Exercise 4"
   ]
  },
  {
   "cell_type": "markdown",
   "metadata": {},
   "source": [
    "**Task:** \n",
    "\n",
    "Suppose we are given the stream 3, 4, 1, 3, 4, 2, 1, 2 to which we apply the Alon-\n",
    "Matias-Szegedy Algorithm to estimate the k-th moment. For each possible position in\n",
    "the stream let Xi be a variable defined at position i. What are the values of Xi.el and\n",
    "Xi.val for each i = 1, . . . , 8? Does it make sense to have a separate variable for each\n",
    "stream position?\n",
    "\n",
    "**Solution:**\n",
    "\n",
    "|Position X   | X.el   |  X.val|\n",
    "|-------------|--------|-------|\n",
    "|    1        |   3    |   2   |\n",
    "|    2        |   4    |   2   |\n",
    "|    3        |   1    |   2   |\n",
    "|    4        |   3    |   1   |\n",
    "|    5        |   4    |   1   |\n",
    "|    6        |   2    |   2   |\n",
    "|    7        |   1    |   1   |\n",
    "|    8        |   2    |   1   |\n",
    "\n",
    "it makes sense to keep each variable as the RAM  cost is negliblible for this example but the accuracy still grows with more variables.\n",
    "\n",
    "    "
   ]
  },
  {
   "cell_type": "markdown",
   "metadata": {},
   "source": [
    "# Exercise 5"
   ]
  },
  {
   "cell_type": "markdown",
   "metadata": {},
   "source": [
    "**Task:**\n",
    "\n",
    "Implement a routine (in Python) for computing the k-moment of a stream using the\n",
    "Alon-Matias-Szegedy (AMS) method. The routine receives as input a list of numbers rep-\n",
    "resenting the stream, its length n, the degree k of the moment (up to 3, i.e. k = 0, . . . , 3),\n",
    "and the desired number v of the auxiliary variables. The output is the estimation of the\n",
    "k-th moment according to AMS, and for debugging/illustration purposes the list of all\n",
    "v variables with their respective data (i.e. X.el, X.val). For each run, a random set of\n",
    "positions for initializing the variables is picked. Your routine should perform only one\n",
    "pass over the stream data, i.e. you need to update X.val for each already initialized\n",
    "variable X as new stream elements are revealed. However, you can assume that you\n",
    "know n from the beginning. Submit your source code and the logs/reports of the runs."
   ]
  },
  {
   "cell_type": "code",
   "execution_count": 211,
   "metadata": {},
   "outputs": [
    {
     "name": "stdout",
     "output_type": "stream",
     "text": [
      "testrun:\n",
      "(68.33333333333334, array([ 0,  1,  3,  5,  6,  7,  8, 10, 11]), [[1, 5], [2, 4], [2, 3], [1, 4], [3, 2], [4, 2], [1, 3], [4, 1], [3, 1]])\n",
      "gridsearch:\n",
      "[[ 15.          15.          15.          15.          15.        ]\n",
      " [ 15.          75.          45.          62.14285714  48.33333333]\n",
      " [ 15.         135.         213.         156.42857143 265.        ]]\n"
     ]
    }
   ],
   "source": [
    "import numpy as np\n",
    "example = np.array([1,2,3,2,4,1,3,4,1,2,4,3,1,1,2])\n",
    "\n",
    "def AMS(stream,k,v,printTable=False):\n",
    "    n = len(stream)\n",
    "    xs = np.random.choice(n,v,replace=False)\n",
    "    xs.sort()\n",
    "    table = []\n",
    "    for i  in range(n):\n",
    "        if i in xs:\n",
    "            table.append([stream[i],0])\n",
    "        for entry in table:\n",
    "            if entry[0]==stream[i]:\n",
    "                entry[1]+=1      \n",
    "    est = 0\n",
    "    for entry in table:\n",
    "        est+= (n*(entry[1]**k - (entry[1]-1)**k))/v\n",
    "    #if data is required\n",
    "    if printTable:\n",
    "        return est,xs,table\n",
    "    else:\n",
    "        return est\n",
    "\n",
    "#for showing data\n",
    "print(\"testrun:\")\n",
    "print(AMS(example,2,9,printTable=True))\n",
    "\n",
    "#a)\n",
    "print(\"gridsearch:\")\n",
    "results = np.empty((3,5))\n",
    "for k in [1,2,3]:\n",
    "    i = 0\n",
    "    for v in [1,3,5,7,9]:\n",
    "        results[k-1,i] = AMS(example,k,v)\n",
    "        i+=1\n",
    "print(results)\n",
    "\n"
   ]
  },
  {
   "cell_type": "markdown",
   "metadata": {},
   "source": [
    "We can see that the first moment is always equal to 15, this is because the formula is reduced to est = n"
   ]
  },
  {
   "cell_type": "markdown",
   "metadata": {},
   "source": [
    "b) **Task:** Furthermore, compute and state the exact third moment (k = 3)"
   ]
  },
  {
   "cell_type": "code",
   "execution_count": 136,
   "metadata": {},
   "outputs": [
    {
     "name": "stdout",
     "output_type": "stream",
     "text": [
      "third moment of example stream: 243\n"
     ]
    }
   ],
   "source": [
    "print(\"third moment of example stream:\" , sum(np.array([5,4,3,3])**3))"
   ]
  },
  {
   "cell_type": "markdown",
   "metadata": {},
   "source": [
    "c) **Task:** \n",
    " \n",
    "What is the impact of v on the accuracy of the estimates?\n",
    "\n",
    "**Solution:** \n",
    "\n",
    "with growing v the estimator gets more accurate, as more samples are used. It converges to the exact result for v=n"
   ]
  },
  {
   "cell_type": "markdown",
   "metadata": {},
   "source": [
    "# Exercise 6\n",
    "\n",
    "**Task:** \n",
    "\n",
    "If we wanted to estimate the fourth moments the Alon-Matias-Szegedy Algorithm, how\n",
    "would we convert X.val to an estimate of the fourth moment, i.e. how does the function\n",
    "f (X) looks like in this case?\n",
    "\n",
    "**Solution:**\n",
    "\n",
    "we take the formulat from above and set k=4: f(X) = n*(X.val^4 - (X.val-1)^4) = n* ( 4*X.val^3 -6*X.val^2 +4*X.val -1)\n"
   ]
  },
  {
   "cell_type": "markdown",
   "metadata": {},
   "source": [
    "# Exercse 7\n",
    "\n",
    "**Task:**\n",
    "\n",
    " Download historical data of the audio platform Audioscrobbler2 that has been merged\n",
    "with Last.fm in 2005. The file user_artist_data_small.txt is a file containing the\n",
    "tab-separated relation “user X has listened to artist Y for Z many times”, represented\n",
    "as “<userid> <artistid> <playcount>”. Write a Spark program using only DataFrames\n",
    "APIs (i.e., no RDD or SQL APIs) to implement the following queries (submit your code\n",
    "and the logs of your test/runs as a part of the solution).\n",
    "\n",
    "a)**Task:** \n",
    "\n",
    "Populate a utility matrix. Be sure to first replace bad artist IDs that are due to known\n",
    "misspellings using the assignments in artist_alias_small.txt. Think about how\n",
    "to store the matrix in a reasonable way."
   ]
  },
  {
   "cell_type": "code",
   "execution_count": null,
   "metadata": {},
   "outputs": [
    {
     "name": "stdout",
     "output_type": "stream",
     "text": [
      "+-------+-------+\n",
      "|    _c0|    _c1|\n",
      "+-------+-------+\n",
      "|1027859|1252408|\n",
      "+-------+-------+\n",
      "only showing top 1 row\n",
      "\n",
      "+-------+------------+\n",
      "|    _c0|         _c1|\n",
      "+-------+------------+\n",
      "|1240105|André Visior|\n",
      "+-------+------------+\n",
      "only showing top 1 row\n",
      "\n",
      "+-------------------+\n",
      "|                _c0|\n",
      "+-------------------+\n",
      "|1059637 1000010 238|\n",
      "+-------------------+\n",
      "only showing top 1 row\n",
      "\n"
     ]
    }
   ],
   "source": [
    "# Step 1: Set up the Spark session\n",
    "from pyspark.sql import SparkSession\n",
    "\n",
    "# Create Spark session\n",
    "spark = SparkSession.builder \\\n",
    "    .appName(\"TextFileToDataFrame\") \\\n",
    "    .getOrCreate()\n",
    "\n",
    "df1 = spark.read.option(\"delimiter\", \"\\t\").csv(\"artist_alias_small.txt\")\n",
    "df2 = spark.read.option(\"delimiter\", \"\\t\").csv(\"artist_data_small.txt\")\n",
    "df3 = spark.read.option(\"delimiter\", \"\\t\").csv(\"user_artist_data_small.txt\")\n",
    "\n",
    "df1.toDF(\"badID\", \"goodID\")\n",
    "df2.toDF(\"artistID\", \"artistName\")\n",
    "df3.toDF(\"userID\", \"artistID\",\"repeats\")\n",
    "# Step 3: Show the DataFrames\n",
    "df1.show(1)\n",
    "df2.show(1)\n",
    "df3.show(1)"
   ]
  }
 ],
 "metadata": {
  "kernelspec": {
   "display_name": "MMD",
   "language": "python",
   "name": "python3"
  },
  "language_info": {
   "codemirror_mode": {
    "name": "ipython",
    "version": 3
   },
   "file_extension": ".py",
   "mimetype": "text/x-python",
   "name": "python",
   "nbconvert_exporter": "python",
   "pygments_lexer": "ipython3",
   "version": "3.10.8"
  }
 },
 "nbformat": 4,
 "nbformat_minor": 2
}
