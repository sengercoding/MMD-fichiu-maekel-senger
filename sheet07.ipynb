{
 "cells": [
  {
   "cell_type": "markdown",
   "metadata": {},
   "source": [
    "# MMD 2024, Problem Sheet 6\n",
    "\n",
    "Group: Daniela Fichiu, Aaron Maekel, Manuel Senger"
   ]
  },
  {
   "cell_type": "markdown",
   "metadata": {},
   "source": [
    "# Exercise 1"
   ]
  },
  {
   "cell_type": "markdown",
   "metadata": {},
   "source": [
    "# Exercise 2\n",
    " "
   ]
  },
  {
   "cell_type": "markdown",
   "metadata": {},
   "source": [
    "# Exercise 3"
   ]
  },
  {
   "cell_type": "markdown",
   "metadata": {},
   "source": [
    "# Exercise 4"
   ]
  },
  {
   "cell_type": "markdown",
   "metadata": {},
   "source": [
    "k-shingle generation from last exercise"
   ]
  },
  {
   "cell_type": "code",
   "execution_count": 2,
   "metadata": {},
   "outputs": [
    {
     "name": "stdout",
     "output_type": "stream",
     "text": [
      "[   313783875    407854733    422966171 ... 999983729780 999998372978\n",
      " 999999837297]\n",
      "Done\n"
     ]
    }
   ],
   "source": [
    "import numpy as np\n",
    "def get_shingles_dec(txt,k):\n",
    "    \n",
    "    shingles ={} \n",
    "    for i in range(len(txt)-k):\n",
    "        #remove trailing zeros by converting it to int.\n",
    "        subtext = str(int(txt[i:i+k]))\n",
    "\n",
    "        if subtext not in shingles.keys():\n",
    "            shingles[subtext] = True\n",
    "    unsorted_pos = [int(x) for x in shingles.keys()]\n",
    "\n",
    "    return np.sort(unsorted_pos)\n",
    "\n",
    "with open( \"pi.txt\" , 'r') as file:\n",
    "    txt = file.read().replace(\" \",\"\").replace(\".\",\"\")\n",
    "    \n",
    "shingles = get_shingles_dec(txt,12)\n",
    "\n",
    "print(shingles)\n",
    "\n",
    "with open(r'pi_shingles.txt', 'w') as fp:\n",
    "    for item in shingles:\n",
    "        # write each item on a new line\n",
    "        fp.write(\"%s\\n\" % item)\n",
    "    print('Done')\n"
   ]
  },
  {
   "cell_type": "code",
   "execution_count": 41,
   "metadata": {},
   "outputs": [
    {
     "name": "stdout",
     "output_type": "stream",
     "text": [
      "[[2.70853050e+07 6.44203016e+08 4.97422820e+07 4.07416800e+06\n",
      "  4.70579903e+08]\n",
      " [2.09812964e+08 3.06528805e+08 5.00092406e+08 1.49664581e+08\n",
      "  9.17230437e+08]\n",
      " [2.03345467e+08 1.09651284e+08 4.34167754e+08 3.68278489e+08\n",
      "  2.51047529e+08]\n",
      " [1.18459075e+08 2.34395765e+08 5.03797010e+07 2.29187986e+08\n",
      "  2.58460680e+07]\n",
      " [5.72737720e+07 2.49717650e+08 2.87870049e+08 2.67300500e+06\n",
      "  1.07022598e+08]]\n"
     ]
    }
   ],
   "source": [
    "import numpy as np\n",
    "import random\n",
    " \n",
    "\n",
    "def h(x,N,a=37,b=126,p=(10**15 + 223)):\n",
    "    return np.mod(np.mod(a*x+b,p), N) + 1\n",
    "\n",
    " \n",
    "def create_sig_matrix(data,K,N):\n",
    "    m = len(data[0])\n",
    "\n",
    "    A =np.empty(K,dtype=np.longdouble)\n",
    "    B =np.empty(K,dtype=np.longdouble)\n",
    "    P = 2**31-1\n",
    "    for i in range(K):\n",
    "        A[i] = random.getrandbits(40)\n",
    "        B[i] = random.getrandbits(40)\n",
    "    \n",
    "    sig_M = np.ones(shape=(K,m))*float(\"inf\")\n",
    "    \n",
    "    for data_column in range(m):\n",
    "        for row in range(K):    \n",
    "            res= h(data[:,data_column],N, A[row],B[row],P)\n",
    "            \n",
    "            sig_M[row,data_column] = np.min(res)\n",
    "\n",
    "    sig_M.astype(np.int64)\n",
    "    return sig_M\n",
    "\n",
    "\n",
    "N=10**12\n",
    "input = np.random.randint(0,N,size=(10,5),dtype=np.int64)\n",
    "Mat = create_sig_matrix(input,5,N)\n",
    "\n",
    "print(Mat)\n",
    "\n"
   ]
  },
  {
   "cell_type": "markdown",
   "metadata": {},
   "source": [
    "# Exercise 5"
   ]
  },
  {
   "cell_type": "markdown",
   "metadata": {},
   "source": [
    "a)"
   ]
  },
  {
   "cell_type": "code",
   "execution_count": 4,
   "metadata": {},
   "outputs": [
    {
     "name": "stdout",
     "output_type": "stream",
     "text": [
      "[array([47560464, 49735109, 98400253, ..., 88465100, 14407140, 31379937])]\n",
      "replacing  191\n",
      "replacing  350\n",
      "replacing  156\n",
      "replacing  48\n",
      "replacing  392\n",
      "replacing  67\n",
      "[array([47560464, 49735109, 98400253, ..., 88465100, 14407140, 31379937]), array([47560464, 49735109, 98400253, ..., 98754817, 28102136, 35181939]), array([47560464, 49735109, 98400253, ..., 88676612,  9506829, 74274427]), array([47560464, 49735109, 98400253, ..., 22665451, 90943903, 87079725]), array([47560464, 49735109, 98400253, ..., 34887510,  9087288, 66245185]), array([47560464, 49735109, 98400253, ..., 27669675, 59900990, 61441766]), array([47560464, 49735109, 98400253, ..., 76758551,  8745669, 30165721]), array([47560464, 49735109, 14709406, ..., 98217529, 26467060, 13684922]), array([47560464, 49735109, 14709406, ..., 75886764, 67334222, 90904883]), array([47560464, 49735109, 14709406, ..., 94194086, 70278277, 23502793]), array([47560464, 49735109, 14709406, ..., 12920420, 52589430, 48079749]), array([47560464, 49735109, 14709406, ..., 62300377, 18017125, 76390621]), array([47560464, 49735109, 14709406, ..., 94289393, 45906035, 89051982]), array([47560464, 49735109, 14709406, ..., 94454713,  4033069, 93013035]), array([47560464, 49735109, 14709406, ..., 47902995, 33752406, 32276544]), array([49735109, 14709406, 63536161, ..., 31022026, 12897645, 87187878]), array([49735109, 14709406, 63536161, ..., 31459801, 73564786, 24148427]), array([49735109, 14709406, 63536161, ..., 68149793, 33766569,  8909782]), array([49735109, 14709406, 63536161, ..., 24955254, 78774934, 32914529]), array([49735109, 14709406, 63536161, ..., 80219387, 32175024, 45772167]), array([49735109, 14709406, 63536161, ..., 43827048, 35902166, 44686144]), array([49735109, 14709406, 63536161, ..., 81669161, 19626570, 80740100]), array([49735109, 14709406, 63536161, ..., 14310234, 81579816, 86547374]), array([49735109, 14709406, 63536161, ..., 84821433, 87150036, 35967698]), array([49735109, 14709406, 63536161, ..., 35078962, 49175424, 61130942]), array([49735109, 14709406, 63536161, ..., 47936424, 84056138, 30120013]), array([49735109, 14709406, 63536161, ..., 78191890,  1287618, 12166161]), array([49735109, 14709406, 63536161, ..., 41439513,  7344578, 29404323]), array([49735109, 14709406, 63536161, ..., 83571227, 60284275, 19055369]), array([49735109, 14709406, 63536161, ..., 74712539,  3865444, 97649687]), array([49735109, 14709406, 63536161, ..., 71516917, 89415994, 22587130]), array([49735109, 14709406, 63536161, ...,  6109058, 25997594, 14657470]), array([49735109, 14709406, 63536161, ..., 65931978, 90108102, 85459758]), array([49735109, 14709406, 63536161, ..., 38713178, 23852990, 56001474]), array([49735109, 14709406, 63536161, ..., 24993060, 51491062, 16665472]), array([49735109, 14709406, 63536161, ..., 51245670, 32553402, 85108581]), array([49735109, 14709406, 63536161, ..., 80134161, 85625154, 44741595]), array([49735109, 14709406, 63536161, ..., 62275555, 84994007, 34693362]), array([49735109, 14709406, 63536161, ..., 53504251, 55656704, 53047814]), array([49735109, 14709406, 63536161, ...,  1636285, 81625637, 66391408]), array([49735109, 14709406, 63536161, ..., 30521479, 63150005, 35771288]), array([49735109, 14709406, 63536161, ..., 17716473,   374197, 65227131]), array([49735109, 14709406, 63536161, ..., 56355768, 70565906, 55301646]), array([49735109, 14709406,  5326220, ..., 98646117, 51057569, 38788367]), array([49735109, 14709406,  5326220, ..., 63800430, 53384976, 31669942]), array([49735109, 14709406,  5326220, ..., 20281120, 66394217, 15526736]), array([49735109, 14709406,  5326220, ..., 34128715, 61177122, 89978404]), array([49735109, 14709406,  5326220, ..., 25453357, 19619611, 19764841]), array([49735109, 14709406,  5326220, ..., 67936698, 11129768,  5543254]), array([49735109, 14709406,  5326220, ..., 16054820, 41605750, 62164237]), array([14709406,  5326220, 29198236, ..., 37809801, 26767369,   667843]), array([14709406,  5326220, 29198236, ..., 65474434, 45675988,  4024167]), array([14709406,  5326220, 29198236, ..., 39143388, 46319879, 44083061]), array([14709406,  5326220, 29198236, ..., 84219231, 95765996, 20490600]), array([14709406,  5326220, 29198236, ..., 60841821, 51269348, 12802163]), array([14709406,  5326220, 29198236, ..., 53707553, 88995850, 43031123]), array([14709406,  5326220, 29198236, ..., 79467096, 58580925, 45821643]), array([14709406,  5326220, 29198236, ...,  6714589, 17180055, 63053509]), array([ 5326220, 29198236, 75300730, ..., 56825762, 61923984, 66292451]), array([ 5326220, 29198236, 75300730, ...,  4852559, 69851727, 22144866]), array([ 5326220, 29198236, 75300730, ..., 85074641, 98282172,  7511381]), array([ 5326220, 29198236, 75300730, ..., 14422698, 22601455, 92210679]), array([ 5326220, 29198236, 75300730, ..., 88914135, 60413302, 61526655]), array([ 5326220, 29198236, 75300730, ...,  7821690, 90356495, 92559066]), array([ 5326220, 75300730, 94150241, ...,  7974992, 93686982, 45809932]), array([ 5326220, 75300730, 94150241, ..., 16815283, 13153561, 96827466]), array([ 5326220, 75300730, 94150241, ..., 49314145, 93047012, 50838109]), array([ 5326220, 75300730, 94150241, ..., 76964779,  5645820, 67654870]), array([ 5326220, 75300730, 94150241, ..., 35330537, 66177648, 13940640]), array([ 5326220, 75300730, 94150241, ..., 79528440, 24367213, 45669004]), array([ 5326220, 75300730, 94150241, ..., 13982824, 44970113, 74951420]), array([ 5326220, 75300730, 94150241, ..., 73984104, 17285795, 74133874]), array([ 5326220, 75300730, 94150241, ...,  8766297, 31706200, 75841090]), array([ 5326220, 75300730, 94150241, ..., 83372223, 76972087, 11512473]), array([ 5326220, 75300730, 94150241, ..., 63390286, 44899398, 48629876]), array([ 5326220, 75300730, 94150241, ..., 78386116, 47062214, 47260087]), array([ 5326220, 75300730, 94150241, ..., 85342577, 14204940, 13311816]), array([ 5326220, 75300730, 94150241, ..., 84895494,  2931733, 24025995]), array([ 5326220, 75300730, 94150241, ..., 38583520, 70458342, 46214023]), array([ 5326220, 75300730, 94150241, ...,  7761527, 60456938, 71212309]), array([ 5326220, 75300730, 94150241, ...,  6156078, 52405542, 93516176]), array([75300730, 94150241, 64559287, ..., 21583550, 99801925, 29149364]), array([75300730, 94150241, 64559287, ..., 14253477, 41954552, 23612511]), array([75300730, 94150241, 64559287, ..., 26587502, 72878267, 84577193]), array([75300730, 94150241, 64559287, ..., 20339983, 69463982, 77273433]), array([75300730, 94150241, 64559287, ...,  5086740, 92926576, 32178668]), array([75300730, 94150241, 64559287, ..., 99353385, 69362151, 75713476]), array([75300730, 94150241, 64559287, ...,  2957134,  9161280, 11906894]), array([75300730, 94150241, 64559287, ..., 84969195, 13862187, 99154454]), array([75300730, 94150241, 64559287, ..., 64464167, 44734459, 93233610]), array([75300730, 94150241, 64559287, ..., 84576939, 21036316,  5494068]), array([75300730, 94150241, 64559287, ..., 69127684, 43831121, 92880924]), array([75300730, 94150241, 64559287, ..., 99182305, 13988871, 83554567]), array([75300730, 94150241, 64559287, ..., 34783703,  6395058,  9616719]), array([75300730, 94150241, 64559287, ..., 67587912, 90511696, 88562090]), array([75300730, 94150241, 64559287, ..., 38309696, 65690299, 34727867]), array([75300730, 94150241, 64559287, ..., 57054288, 89274803, 67102025]), array([75300730, 94150241, 64559287, ..., 76393720, 10463384, 19601130]), array([75300730, 94150241, 64559287, ..., 67177698, 59215157, 31366372]), array([75300730, 94150241, 64559287, ..., 98397090, 20592778, 99353908])]\n"
     ]
    }
   ],
   "source": [
    "import numpy as np\n",
    "def create_dataset(m=100,q=20000,delta=0.02,N=10**8):\n",
    "    C= []\n",
    "    C.append( np.random.choice(np.arange(N),size=q,replace=False))\n",
    "    print(C)\n",
    "    for i in range(m-1):\n",
    "        last_col = C[-1] \n",
    "        fract_old_values= np.random.choice(np.arange(q),size=int(delta*q),replace=False)\n",
    "        replacements = np.random.randint(N,size=len(fract_old_values))\n",
    "        for i in range(len(replacements)):\n",
    "            while replacements[i] in last_col:\n",
    "               \n",
    "                print(\"replacing \",i)\n",
    "                replacements[i] = np.random.randint(N,size=1)[0]\n",
    "        \n",
    "        existing_old_values = np.delete(last_col,fract_old_values)\n",
    "        C.append(np.concatenate((existing_old_values,replacements)))\n",
    "    return C\n",
    "\n",
    "print(create_dataset())\n"
   ]
  },
  {
   "cell_type": "code",
   "execution_count": 21,
   "metadata": {},
   "outputs": [
    {
     "name": "stdout",
     "output_type": "stream",
     "text": [
      "[[25425564. 25425564. 25425564. ... 23443398. 23443398. 23443398.]\n",
      " [74052716. 74052716. 74052716. ... 61430029. 61430029. 61430029.]\n",
      " [70885014. 70885014. 70885014. ... 99212016. 99212016. 99212016.]\n",
      " ...\n",
      " [42895579. 42895579. 42895579. ... 42895579. 42895579. 42895579.]\n",
      " [30348033. 30348033. 30348033. ... 24719741. 24719741. 24719741.]\n",
      " [49201515. 49201515. 49201515. ... 49201515. 49201515. 49201515.]]\n"
     ]
    }
   ],
   "source": [
    "import numpy as np\n",
    "def create_dataset(m=100,q=20000,delta=0.02,N=10**8):\n",
    "    C= np.empty(shape=(q,m) )\n",
    "    C[:,0]= np.random.choice(np.arange(N),size=q,replace=False)\n",
    "     \n",
    "    for i in range(1,m):\n",
    "        \n",
    "        num_elements = q\n",
    "        num_to_replace = int(num_elements * delta)\n",
    "\n",
    "        # Step 2: Get current unique values in the array\n",
    "        unique_values = np.unique(C[:,i-1])\n",
    "        \n",
    "        # Step 3: Generate new random values that aren't in the current array\n",
    "        # We can use a range of numbers that are not in unique_values\n",
    "        new_values = np.random.choice(np.arange(N), num_to_replace)\n",
    "        for j in range(num_to_replace):\n",
    "            while new_values[j] in unique_values:\n",
    "               \n",
    "                #print(\"rerolling new value\",j)\n",
    "                new_values[j] = np.random.randint(N,size=1)[0]\n",
    "        \n",
    "        # Step 4: Randomly choose indices to replace in the array\n",
    "        indices_to_replace = np.random.choice(q, num_to_replace, replace=False)\n",
    "        \n",
    "        C[:,i]=C[:,i-1]\n",
    "        # Step 5: Replace the values at the chosen indices\n",
    "        C[indices_to_replace,i] = new_values\n",
    "            \n",
    "            \n",
    "        \n",
    "        \n",
    "        \n",
    "        \n",
    "        #last_col = C[:,i-1] \n",
    "        #fract_old_values= np.random.choice(np.arange(q),size=int(delta*q),replace=False)\n",
    "        #replacements = np.random.randint(N,size=len(fract_old_values))\n",
    "        #for j in range(len(replacements)):\n",
    "        #    while replacements[j] in last_col:\n",
    "        #       \n",
    "        #        print(\"replacing \",j)\n",
    "        #        replacements[j] = np.random.randint(N,size=1)[0]\n",
    "        #\n",
    "        #existing_old_values = np.delete(last_col,fract_old_values)\n",
    "        #C[:,i]= np.concatenate((existing_old_values,replacements))\n",
    "    return C\n",
    "N=10**8\n",
    "C = create_dataset(N=N)\n",
    "\n",
    "print(C)"
   ]
  },
  {
   "cell_type": "markdown",
   "metadata": {},
   "source": [
    "b)"
   ]
  },
  {
   "cell_type": "code",
   "execution_count": 42,
   "metadata": {},
   "outputs": [
    {
     "name": "stdout",
     "output_type": "stream",
     "text": [
      "[[ 84170.  84170.  84170. ...  71148.  44493.  44493.]\n",
      " [ 31528.  31528.  31528. ...  28971.  28971.  28971.]\n",
      " [ 52626.  52626.  52626. ... 202488. 202488. 202488.]\n",
      " ...\n",
      " [147472. 147472. 147472. ...  13832.  13832.  13832.]\n",
      " [ 22708.  22708.  22708. ... 206894. 206894. 206894.]\n",
      " [298333. 298333. 298333. ...   1231.   1231.   1231.]]\n"
     ]
    }
   ],
   "source": [
    "Mat5 =create_sig_matrix(C,100,N)\n",
    "\n",
    "\n",
    "print(Mat5)\n"
   ]
  },
  {
   "cell_type": "markdown",
   "metadata": {},
   "source": [
    "c)"
   ]
  },
  {
   "cell_type": "markdown",
   "metadata": {},
   "source": [
    "we print it as a matrix, element [i,j] is the jacard sim of column i and j. This means our result is an upper right diagonal matrix, with and empty diagonal (technically the diagonal is equal to one as we compare a column with itself there)"
   ]
  },
  {
   "cell_type": "code",
   "execution_count": 69,
   "metadata": {},
   "outputs": [
    {
     "name": "stdout",
     "output_type": "stream",
     "text": [
      "[[0.         0.96078431 0.92316938 ... 0.07633937 0.07463328 0.07339326]\n",
      " [0.         0.         0.96078431 ... 0.07802183 0.07628145 0.07495096]\n",
      " [0.         0.         0.         ... 0.07970956 0.07790563 0.07657112]\n",
      " ...\n",
      " [0.         0.         0.         ... 0.         0.96078431 0.92353931]\n",
      " [0.         0.         0.         ... 0.         0.         0.96078431]\n",
      " [0.         0.         0.         ... 0.         0.         0.        ]]\n"
     ]
    }
   ],
   "source": [
    "def jaccard_sim(c1,c2):\n",
    "    n=len(c1)\n",
    "    map = {}\n",
    "    # For each element of A\n",
    "    # increase it's instance by 1.\n",
    "    for i in range(n):\n",
    "       map[c1[i]] = 1\n",
    "        \n",
    "             \n",
    "    # For each element of B\n",
    "    # decrease it's instance by 1.\n",
    "    for i in range(n):\n",
    "        if c2[i] in map:\n",
    "            map[c2[i]] += 1\n",
    "        else:\n",
    "            map[c2[i]] = 1\n",
    " \n",
    "    # Iterate through map  \n",
    "    intersect=0\n",
    "    union = 0\n",
    "    for i in map:\n",
    "        if (map[i] == 2):\n",
    "           intersect+=1\n",
    "        elif (map[i]==1):\n",
    "            union+=1\n",
    "    return intersect/(intersect+union)\n",
    " \n",
    "m=len(C[0])\n",
    "jac_mat = np.zeros(shape=(m,m))\n",
    "for i in range(m):\n",
    "    \n",
    "    for j in range(i+1,m):\n",
    "        jac_mat[i,j] = jaccard_sim(C[:,i],C[:,j])\n",
    "print(jac_mat)"
   ]
  },
  {
   "cell_type": "markdown",
   "metadata": {},
   "source": [
    "as expected, the further the values are away from the diagonal, the lesser the similiarity becomes, as more and more vallues are swapped between the two columns."
   ]
  },
  {
   "cell_type": "markdown",
   "metadata": {},
   "source": [
    "# Exercise 6"
   ]
  },
  {
   "cell_type": "markdown",
   "metadata": {},
   "source": [
    "a+b)"
   ]
  },
  {
   "cell_type": "code",
   "execution_count": 45,
   "metadata": {},
   "outputs": [],
   "source": [
    "import xxhash\n",
    "from collections import defaultdict\n",
    "\n",
    "def LSH(sig_m,b,r,s,N):\n",
    "    K = len(sig_m)\n",
    "    m = len(sig_m[0])\n",
    "    hashs =[]\n",
    "    band_buckets =[]\n",
    "    rdm_seeds = np.random.randint(N,size=b)\n",
    "    for i in range(b):\n",
    "       hashs.append( xxhash.xxh32(seed=rdm_seeds[i]))\n",
    "    for i in range(b):\n",
    "        def_dict =defaultdict(list)\n",
    "        for col in range(m):\n",
    "            hashs[i].reset()\n",
    "            for j in range(r):\n",
    "                hashs[i].update(str(int(sig_m[i*r+j,col])))\n",
    "                \n",
    "            def_dict[hashs[i].digest()].append(col)\n",
    "        band_buckets.append(def_dict)\n",
    "    return band_buckets\n",
    "\n",
    "\n",
    "band_buckets = LSH(Mat5,b=20,r=5,s=0.8,N=10**8)\n",
    "\n",
    " "
   ]
  },
  {
   "cell_type": "code",
   "execution_count": 49,
   "metadata": {},
   "outputs": [
    {
     "name": "stdout",
     "output_type": "stream",
     "text": [
      "defaultdict(<class 'list'>, {b'\\x11\\xfaP\\x9a': [0, 1, 2, 3, 4], b'\\xd3k\\x93\\xa0': [5, 6], b'#\\xfbA\\xef': [7, 8, 9, 10, 11, 12], b'\\xb7k\\x8e/': [13, 14, 15, 16], b'p3\\xf6\\x11': [17, 18], b'\\xa5\\xd6\\x9ea': [19, 20], b'\\x12F)\\x9c': [21, 22, 23, 24], b'Hk/\\x1e': [25, 26, 27, 28, 29, 30, 31, 32, 33, 34, 35, 36, 37, 38, 39, 40, 41, 42, 43, 44, 45, 46, 47, 48, 49, 50, 51], b'\\x9e\\xceuD': [52], b'\\xd5 \\x1e\\xf0': [53, 54, 55, 56], b'\\xf3UPO': [57, 58], b'\\xbc\\xe7\\x99*': [59, 60, 61], b'2v\\x97\\xa9': [62, 63, 64, 65, 66, 67, 68, 69, 70, 71, 72, 73, 74, 75, 76, 77], b'(\\xd7\\xfc\\x1b': [78, 79, 80, 81, 82, 83, 84, 85, 86, 87, 88], b'\\xad\\x06^\\x91': [89, 90, 91], b'\\xd9\\x05\\xbe_': [92, 93, 94, 95], b'\\xd73\\xe0q': [96, 97], b'8u\\x94K': [98, 99]})\n",
      "defaultdict(<class 'list'>, {b'\\x8a\\xc5\\xa1\\xcc': [0, 1, 2, 3, 4], b'$\\x0b2\\x02': [5, 6, 7, 8, 9, 10], b'\\r!\\x01\\xc1': [11, 12, 13, 14, 15, 16, 17, 18, 19], b'e2\\xabg': [20, 21], b'gOT\\x9f': [22, 23], b'~\\x9e\\xfc\\x16': [24, 25, 26], b'*\\xcfZ\\xa1': [27], b'DM\\x14\\x94': [28, 29, 30, 31, 32, 33], b'km\\xca\\x8f': [34, 35, 36, 37], b'\\xe1TUk': [38, 39, 40, 41, 42, 43, 44, 45, 46, 47], b'g\\x1a\\xce;': [48, 49, 50, 51, 52, 53, 54, 55], b'\\x87\\x1f)\\xbd': [56], b'\\xb2\\xc1\\x8c\\xb9': [57, 58, 59, 60], b']\\xdc\\x8a\\t': [61, 62, 63, 64, 65, 66, 67, 68], b'\\xdb%v\\xf6': [69, 70, 71, 72, 73, 74, 75], b'L\\x8f\\xa6\\xe9': [76, 77, 78, 79, 80], b'\\xf3a{^': [81, 82, 83, 84, 85, 86, 87, 88, 89, 90, 91, 92], b'\\x14\\xac%\\xb3': [93], b'Z\\xf6\\x8b\\x8e': [94, 95], b'\\xce\\x0c\\xa3\\x97': [96, 97], b'\\x85\\xf3\\xf3|': [98], b'\\x1a\\xc1\\xeeH': [99]})\n",
      "defaultdict(<class 'list'>, {b'&\\xdbC\\xa4': [0, 1, 2, 3, 4, 5, 6, 7, 8, 9, 10], b'l\\x90\\r\\xd9': [11, 12, 13, 14, 15], b'\\xab\\xb9n\\x00': [16, 17, 18, 19], b'R\\xb1h\\x84': [20], b'\\xa1\\x07\\xc3\\xf5': [21, 22, 23, 24, 25, 26, 27, 28, 29], b'm\\xdf\\x92\\xcd': [30], b'g\\x1e\\x01\\xae': [31, 32, 33, 34, 35, 36, 37, 38, 39, 40], b'\\x01\\xa2\\x1f\\xf7': [41, 42, 43, 44, 45, 46, 47, 48, 49, 50, 51], b'z\\r\\xa0\\x0b': [52, 53, 54, 55, 56, 57, 58, 59, 60, 61, 62, 63], b'X\\xb1\\xf1\\xe4': [64, 65, 66], b'\\xc2\\xf0\\xe6Y': [67, 68], b'\\x0fm\\xc6\\x12': [69, 70, 71], b'\\r\\xe4Z\\xf0': [72, 73, 74, 75, 76, 77, 78], b'3\\xf0\\xe0N': [79, 80, 81, 82, 83, 84, 85, 86, 87, 88, 89, 90, 91, 92, 93], b'\\xa3\\x12\\x8e\\xa1': [94, 95], b'P\\xa1\\xb6]': [96, 97, 98, 99]})\n",
      "defaultdict(<class 'list'>, {b'\\xc3\\x86\\xa8\\xe8': [0, 1, 2], b'f\\xb7r\\x11': [3], b'\\xd2\\x0b\\x91h': [4, 5], b'\\xe5\\xb4+e': [6, 7, 8, 9], b'r_\\x84\\x96': [10, 11, 18, 19, 20, 21, 22, 23, 24, 25], b'\\xeaN<z': [12, 13, 14, 15, 16, 17], b'\\x18:\\x9e\\xc9': [26, 27, 28, 30, 31, 32], b'\\xd0\\xe6\\x08\\xac': [29], b'\\xf6\\x86\"\\x88': [33, 34, 35, 36, 37, 38, 39, 40, 41, 42, 43, 44, 45, 46, 47, 48, 49, 50, 51, 52, 53, 54, 55, 56, 57], b'q\\xb3\\xc4\\xa2': [58, 59, 60], b'&\\x87Bh': [61, 62], b'$:\\x8a`': [63, 64, 65, 66], b'\\xebg\\xff\\x8c': [67, 68, 69, 70, 71, 72, 73, 74, 75, 76, 77, 78, 79], b')\\r\\xeb_': [80, 81, 82, 83, 88], b'\\xb0\\xfc[\\xb5': [84, 85, 86, 87], b'\\x11\\xe5b:': [89, 90, 91, 92], b'O\\x95\\x8a\\xc7': [93, 94, 95], b'\\xec#\\x8d\\xb8': [96], b'\\x15L\\x04\\x01': [97, 98, 99]})\n",
      "defaultdict(<class 'list'>, {b'Y>\\xe7{': [0, 1], b'\\xab\\x04\\xb3\\xb2': [2, 3, 4, 5], b'\\x0fUWN': [6, 7, 8], b'\\x10\\xa23\\xd7': [9, 10, 11], b'\\xb4\\x1cE\\xdb': [12, 13, 14, 15, 16], b'\\xda8\\xfd6': [17, 18], b'[!\\xf7\\x01': [19, 20, 21], b'\\x19\\x03\\x06\\xdc': [22, 23, 24, 25], b'J<\\xa5\\xd3': [26, 27, 28], b'\\xfcT\\x03\\x00': [29, 30], b'\\x95w\\x81~': [31, 32, 33, 34, 35, 36, 37, 38, 39, 40], b'\\x97\\xcavd': [41, 42, 43, 44, 45, 46, 47, 48, 49, 50, 51, 52, 53, 54, 55, 56, 57], b'IyZ\\x8b': [58, 59, 60, 61, 62, 63, 64, 65, 66, 67, 68, 69, 70, 71, 72, 73, 74, 75, 76, 77, 78, 79, 80], b'\\xca\\x00\\xd8\\x08': [81, 82, 83, 84, 85, 86, 87, 88, 89, 90, 91, 92], b\"\\x83\\xe5\\xb1'\": [93, 94, 95, 96, 97, 98, 99]})\n",
      "defaultdict(<class 'list'>, {b'\\xc1\\xa4\\xd7.': [0, 1, 2, 3], b'\\x1bc\\xccY': [4, 5, 6], b'w\\x18\\nD': [7, 8, 9], b'/L\\xab^': [10], b'G\\x18>\\x95': [11, 12], b'ZR !': [13, 14, 15], b'+_\\xa3h': [16, 17, 18, 19, 20, 21], b'\\xda\\xc57\\xaf': [22, 23, 24, 25, 26, 27, 28, 29, 30, 31, 32, 33, 34, 35], b'\"\\xd4\\x8e\\x91': [36, 37], b'vg?\\x94': [38, 39], b'\\xf7\\x8e\\xa1v': [40, 41, 42], b'\\xf0\\xb2\\xffP': [43], b'q\\xa6\\xf9a': [44, 45], b'F>\\x1cP': [46, 47, 48, 49, 50, 51, 52, 53, 54, 55, 56, 57, 58], b'v2\\xbf\\xdd': [59, 60, 61, 62, 63], b'\\xafK\\x7f\\xbb': [64, 65, 66, 67, 68, 69, 70], b'rY\\xab.': [71, 72], b'\\xd16\\xdf]': [73, 74, 75, 76], b'T*i\\x83': [77, 78, 79, 80, 81, 82, 84, 85, 86], b'\\xb3\\xee\\xf3Q': [83], b'D\\x9c\\xafF': [87, 88], b'\\xeb\\xd9\\x80\\xef': [89, 90, 91, 92, 93, 94, 95], b'3G\\xde|': [96, 97, 98, 99]})\n",
      "defaultdict(<class 'list'>, {b'\\xbdv\\xd3!': [0], b'\\x86\\x8cS\\x91': [1, 2], b'\\xf6\\r\\xd4\\xa2': [3, 4, 5, 6, 7, 8, 9, 10, 11], b'q\\xa5C\\xd0': [12, 13, 14, 15, 16, 17, 18, 19, 20], b'\\xfd\\xc5T|': [21, 22, 23, 24, 25], b'\\x03b5y': [26, 27, 28, 29], b'%\\xa6\\xc8\\x0b': [30, 31, 32, 33], b'\\xd1\\x13\\xf9\\xd3': [34, 35], b'\\x1c\\xb0\\x1dB': [36], b'g\\x94~^': [37, 38], b'U@\\xce\\x0e': [39, 40, 41, 42, 43], b'\\xb5\\xc1\\xec/': [44], b'\\x1ey\\xf5\\xe8': [45, 46, 47], b'\\xeb\\xe7\\x87\\x94': [48, 49, 50, 51], b'\\t\\xf4LF': [52, 53], b'\\xcc\\xb2\\x01H': [54], b'\\xd2\\xc2<[': [55, 56, 57, 58, 59, 60, 61, 62, 63, 64, 65, 66, 67, 68, 69], b'\\x19\\xc4\\xf9{': [70, 71], b'{\\xc8\\xc3\\t': [72], b'\\nF\\xe6\\x7f': [73, 74], b'\\x8b\\xd7\\x1bh': [75, 76, 77], b'\\xa3\\x07\\xd3Z': [78, 79, 80, 81, 82, 83, 84, 85, 86, 87], b'\\xa6\\xc0\\x8cN': [88, 89, 90, 91, 92, 93], b'\\xf4\\xa9)\\xc7': [94], b'\\x97\\xd3\\x18]': [95, 96], b' y3|': [97, 98, 99]})\n",
      "defaultdict(<class 'list'>, {b'\\x89\\r\\xfd3': [0, 1], b'o\\x17\\xe2N': [2], b'\\xae\\xb4\\xaa&': [3, 4, 5, 6, 7, 8, 9, 10], b'\\xb0\\xd0\\xc8\\x80': [11, 12, 13, 14, 15, 16, 17, 18, 19, 20], b'\\xc0`N\\x1f': [21, 22, 23, 24, 25], b'E\\xefO\\n': [26, 27, 28, 29, 30, 31], b'5\\x08R\\x1f': [32, 33, 34, 35, 36, 37, 38, 39, 40, 41, 42, 43, 44, 45, 46, 47, 48, 49, 50, 51, 52, 53, 54, 55], b']\\xbcJ#': [56, 57, 60, 61, 62, 63], b'_\\xc1\\xbe\\x01': [58, 59], b'\\xad\\xc2\\xb9N': [64, 65, 66, 67, 68, 69], b'rs%\\xe6': [70, 71, 72, 73, 74, 75, 76], b'\\xe2\\xf9\\xf6O': [77, 78, 79, 80, 81, 82, 83, 84, 85, 86, 87, 88, 89], b'\\xd1T\\xb1l': [90, 91, 92, 93, 94, 95, 96, 97, 98, 99]})\n",
      "defaultdict(<class 'list'>, {b'\\x05\\x0f\\xdd\\xf4': [0, 1, 2, 3, 6, 7, 8, 9, 10, 11, 12, 13], b'\\x1b\\xfc\\x19q': [4, 5], b'\\x16$G\\x80': [14, 15, 16, 17], b'\\xda\\xb8\\xfa\\xa6': [18, 19, 20, 21, 22, 23, 24, 25, 26, 27, 28, 29], b'!~N\\x0b': [30, 31, 32, 33, 34], b'L\\xa6\\x94\\xf6': [35, 36, 37, 38, 39, 40, 41, 42, 43, 44, 45, 46, 47, 48, 49, 50, 51, 52, 53, 54], b'M\\x95\\x08c': [55], b'X\\\\ M': [56, 57, 58, 59], b'\\x9c%\\xccX': [60, 61, 62], b'\\xe8\\xa1AK': [63, 64, 65], b'\\x9dB\\x0e\\xae': [66, 67, 68, 69], b'\\x0cL<u': [70], b'\\xe5}~\\xa2': [71, 72], b'\\x95l6\\xbc': [73], b'\\xd4\\xbd7d': [74, 75, 76, 77], b\"M'@\\x1d\": [78, 79, 80, 81, 82, 83, 84], b'\\xb0\\xd4\\x8a<': [85, 86, 87, 88, 89, 90, 91, 92, 93], b'\\x012*\\x0f': [94, 95, 96, 97, 98, 99]})\n",
      "defaultdict(<class 'list'>, {b'\\xea\\xb0\\x1dB': [0, 1, 2], b'\\x08>u\\xbd': [3, 4, 5, 6], b'\\xf4\\xb1\\xe7\\xcb': [7], b'\\xd7\\x17\\x9c ': [8, 9, 10, 11, 12, 13], b'\\xf43\\xbbb': [14, 15, 16], b'\\x0c\\x07\\x99M': [17], b'\\x04?\\x06\\xa0': [18, 19], b'\\x03\\xdc$\\xa3': [20, 21], b'\\x0cp.\\x94': [22, 23, 24, 25, 26, 27, 28, 29, 30, 31, 32, 33, 34, 35, 36, 37, 38], b'\\xd2\\x9e\\x85\\n': [39, 40, 41, 42, 43, 44, 45, 46, 47, 48, 49, 50, 58], b'I\\xae\\x8a\\x92': [51, 52, 53, 54, 55, 56, 57], b'\\xf7L}\\xdb': [59, 60, 61], b'\\x03\\x9b\\xac\\x10': [62], b'\\xe0\\xee\\\\\\x99': [63], b'\\xe3\\x9f>(': [64, 65, 66, 67], b'p=\\x1dd': [68, 69, 70, 71], b'\\xa8i<E': [72, 73, 74, 75], b'P2\\xec\\x1a': [76, 77, 78, 79, 80], b'\\xa3\\xd6$Q': [81, 82, 83], b'\\x9ag\\x8c<': [84, 85, 86], b'a4o\\xc3': [87, 88, 89, 90, 91, 92, 93, 94, 95, 96, 97, 98, 99]})\n",
      "defaultdict(<class 'list'>, {b'\\x01\\xbd\\xf8r': [0, 1, 2], b\"\\x85\\xeb'_\": [3, 4, 5, 6, 7, 8, 9, 10, 11, 12], b'\\xa3G\\x87\\xb7': [13, 14, 15], b'\\xe8\\x96\\x07\\xcb': [16, 17, 18, 19, 20, 21, 22, 23, 24], b'\\x86_n\\x1b': [25, 26, 27, 28, 29, 30, 31, 32, 33, 34, 35, 36, 37, 38, 39, 40, 41, 42, 43, 44, 45, 46, 47, 48], b'/\\xbc,\\x1a': [49, 50, 51], b'\\xcf\\x1b\\xe3-': [52, 53, 54, 55], b'\\x80ie\\xfb': [56, 57, 58, 59, 60, 61, 62, 63], b'R\\x07q\\x01': [64, 65, 66, 67], b'\\xe3\\xb7DK': [68, 69], b'r$3\\x81': [70, 71, 72, 73, 74, 75, 76, 77, 78, 79, 80, 81, 82], b'\\x9c\\xbcfa': [83, 84, 85, 86, 87, 88, 89, 90, 91, 92, 93, 94, 95, 96, 97], b'\\x03\\x91v>': [98], b'\\xe0D\"\\x06': [99]})\n",
      "defaultdict(<class 'list'>, {b'v\\x82)\\x8d': [0, 1, 2, 3, 4, 5, 6, 7, 8, 9, 10], b'I\\x010\\xf8': [11, 12, 13, 14, 15, 16, 17, 18, 19, 20, 21, 22, 23, 24, 25, 26, 27, 28, 29, 30, 31, 32], b'H\\x86P\\x93': [33], b'\\x07Q\\xf5v': [34, 35, 36, 37, 38, 39, 40, 41], b'Mc\\x93^': [42, 43, 44, 45, 46, 47, 48, 49, 50, 51, 52, 53, 54, 55, 56], b'l\\xc4?\\x82': [57, 58, 59, 60, 61, 62, 63, 64, 65], b'\\xdd\\x1d\\x11\\x19': [66, 67, 68, 69], b'z\\t\\x98i': [70, 71, 72], b'\\xb0\\xbaJU': [73, 74, 75, 76, 77, 78, 79], b'R:6\\x11': [80, 81, 82, 83, 84, 85, 86], b'%\\xae\\xa0\\x82': [87, 88, 89, 90, 91, 92, 93, 94], b'%\\x05/{': [95, 96, 97, 98, 99]})\n",
      "defaultdict(<class 'list'>, {b'\\xb8\\xe0A\\\\': [0, 1], b'jlW\\xb2': [2, 3, 4, 5, 6, 7, 8, 9], b'Z\\x05B\\xc9': [10, 11, 12], b'?=+\\xbb': [13, 14, 15], b'\\xa9\\x830D': [16, 17], b'\\xb4\\x10\\xe9\\xd4': [18], b'Rw\\x11K': [19, 20], b'\\x10j3\\x8b': [21, 22, 23, 24, 25, 26], b'\\xb7*\\xee\\x02': [27, 28, 29, 30], b'=\\\\mh': [31], b']\\xbc\\xfe]': [32, 33, 34, 35, 36, 37, 38, 39, 40, 41], b'8\\xb1dp': [42, 43], b'\\x8a\\xb7*C': [44, 45, 46, 47, 48, 49, 50, 51, 52, 53], b'\\x1a^\\xb9;': [54], b'\\xd4\\rjL': [55, 56, 57, 58, 59, 60, 61, 62, 63, 64, 65, 69, 70, 71, 72], b'\\xae\\xbb\\x04\\xff': [66, 67, 68], b'\\xf7\\x01\\xd1\\x97': [73, 74, 75, 76, 77, 78, 79], b']nQ\\x1d': [80, 81, 82, 83], b'\\xdd9\\x93G': [84], b'\\xcf3]1': [85, 86, 87, 88, 89, 90, 91, 92, 93, 94, 95, 96, 97], b'\\xb1\\xe5;\\x89': [98], b'\\xf6 \\xd6X': [99]})\n",
      "defaultdict(<class 'list'>, {b'\\xc8\\xe5\\tG': [0, 1], b'd\\xccS\\xc5': [2, 3, 4, 5, 6, 7, 8, 9], b'&\\x93)\\x1f': [10, 11, 12, 13, 14, 15, 16, 17, 18, 19, 20, 21, 22, 23, 24, 25, 26], b'\\x0c\\nJ\\xac': [27, 28, 29], b'/\\xa4\\xe5\\x7f': [30, 31, 32], b'\\r\\xbc\\xc8\\x00': [33, 34, 35, 36, 37, 38], b'\\xdf\\x03\\x85%': [39, 40, 41, 42, 43], b'\\x1eW\\x8c\\xa1': [44, 45, 46, 47, 48, 49, 50, 51, 52], b'\\xf1\\xd42\\xe3': [53], b'\\x93\\xd2\\xa0}': [54, 55, 56, 57, 58, 59, 60, 61, 62, 63, 64, 65, 66], b'(f\\xa8l': [67, 68, 69, 70, 71, 77, 78, 79], b'o\\xf6\\xac+': [72, 73, 74, 75, 76], b'D,\\xad\\xa3': [80, 81, 82, 83, 84, 85, 86, 87], b'\\x14\\xc3\\x16\\x94': [88, 89, 90, 91, 92, 93, 94], b'CaM]': [95, 96, 97, 98, 99]})\n",
      "defaultdict(<class 'list'>, {b'\\xaaw\\xf4p': [0, 1, 2, 3, 4, 5, 6, 7], b'\\x84\\xc62\\xc8': [8, 9, 10, 11, 12, 13], b'\\r\\xf3YJ': [14, 15, 16, 17], b'\\x8b\\xad\\xaf\\x08': [18, 19, 20, 21, 22], b'\\x89C\\xdf\\xaf': [23, 24, 25, 26], b'\\xca\\x964@': [27, 28, 29, 30, 31, 32, 33, 34, 35, 36], b'\"-gn': [37, 38, 39, 40, 41, 42, 43, 44, 45, 46, 47, 48, 49], b'\\x13?\\x96h': [50, 51, 52, 53, 54], b'\\\\a\\xe95': [55, 56, 57, 58, 59, 60, 61, 62, 63, 64, 65, 66, 67, 68, 69, 70, 71, 72, 73, 74, 75, 76], b'\\xd9\\xf1\\xad\\x9d': [77, 78, 79, 80], b'?e4\\xc6': [81, 82, 83, 84, 85, 86], b'A\\xacx\\x95': [87, 88, 89, 90, 91, 92, 93], b'P\\xf0Y\\x1d': [94, 95, 96, 97], b'\\xd8\\xe4\\x9f\\x87': [98, 99]})\n",
      "defaultdict(<class 'list'>, {b'\\x92\\xaa\\xa2R': [0], b'\\x8clr\\xde': [1, 2, 3, 4, 5, 6, 7, 8], b'\\xbb\\x02B\\xbf': [9, 10, 11, 12, 13], b'K\\xf6\\xe5\\x17': [14], b'0\\x84\\xf4\\xa6': [15], b'x\\xb6\\xf8$': [16, 17, 18, 19, 20, 21, 22, 23, 24, 25, 26, 27, 28], b'\\xf1\\xd8\\xf2\\xd2': [29, 30, 31, 32, 33, 34], b'v\\\\\\x91O': [35, 36, 37, 38, 39, 40, 41, 42, 43, 44, 45, 46, 47, 48, 49, 50], b'\\x7ft\\xe5\\x9a': [51, 52, 53, 54, 55, 56, 57, 58, 59, 60, 61], b'[PV\\xf1': [62, 63, 64, 65, 66, 67, 68], b'\\x1b.]\\x85': [69, 70], b'\\xbez\\x82\\xcf': [71, 72, 73], b'\\xaak\\r\\x84': [74, 75, 76, 77, 78, 79, 80, 81, 82, 83, 84], b'\\xc5Lt\\xcc': [85, 86, 87, 88, 89, 90, 91, 92, 93, 94, 95, 96, 97, 98, 99]})\n",
      "defaultdict(<class 'list'>, {b'M2\\xef\\x03': [0, 1, 2], b'\\xafU\\x89:': [3, 4, 5], b'\\xcf\\x08\\xc6r': [6, 7, 8, 9, 10], b'=\\x14\\xa1\\xc0': [11, 12, 13], b'>k|W': [14], b'\\x8f\\x7f\\x1dB': [15], b'L\\x8b\\xc8R': [16, 17, 18], b'G\\xe4Mq': [19, 20, 21, 22, 23, 24], b'\\xc56\\xae\\xfe': [25, 26, 27, 28, 29, 30, 31, 32, 33, 34], b'\\x84L\\x9a\\x82': [35, 36], b'\\xc9\\xa1\\xf7\\xa9': [37, 38], b\"\\xdc'\\xd0\\xcc\": [39, 40, 41, 42, 43, 44, 45, 46, 47], b'nD\\x95\\xf6': [48, 49, 50], b'\\xea\\xe9\\xa6\\xec': [51], b'\\xdb\\x10\\xb3,': [52, 53], b'\\xbb\\xd5\\xfe\\r': [54, 55, 56], b'\\x99\\x15\\x8c\\xb4': [57, 58, 59], b'Z\\x9crz': [60, 61, 62, 63, 64, 65, 66, 67, 68, 69, 70, 71, 73], b'Y\\xf6}\\xad': [72], b'\\xf6\\x11!\\xfb': [74], b'\\x16|\\xede': [75, 76], b'\\x7f\\xf2\\xfb\\xa2': [77, 78, 79, 80, 81, 82], b'\\x8f\\xe7P)': [83, 84], b'YU\\x8f\\x11': [85, 86, 87, 88, 89], b'g\\xa5\\x1e\\xb7': [90, 91, 92, 93, 94, 95], b'HC\\x89\\xf5': [96], b'\\xcd\\x01\\xca\\xf0': [97, 98], b'\\xcf\\x92\\x14\\xa8': [99]})\n",
      "defaultdict(<class 'list'>, {b'\\x12\\xa2\\x0b$': [0, 1, 2, 3, 4, 5, 6, 7, 8, 9, 10, 11, 12], b'\\x1d\\xe8\\xed\\xa6': [13, 14, 15, 16], b'\\x9a\\x8f7\\xc9': [17, 18, 19, 20, 21, 22, 23, 24, 25, 26, 27, 28, 29, 30], b'\\x01\\r}\\x82': [31, 32, 33, 34, 35], b's\\xf9\\xf7\\xc9': [36, 37, 38, 39, 40, 41], b'+J\\x01T': [42, 43, 44, 45, 46, 47, 48, 49], b'\\xef\\x85Y\\x7f': [50, 51, 52, 53, 54, 55, 56, 57, 58, 59, 60, 61, 62, 63, 64, 65, 66, 67], b'=\\x8c\\xc4x': [68, 69, 70], b'\\xa1\\xact\\xc7': [71, 72, 73, 74], b'/\\xe0\\xa2\\x10': [75, 76, 77, 78, 79, 80, 81, 82, 83, 84, 85, 86, 87, 88, 89], b'\\n\\xb4\\t\\x05': [90, 91, 92, 93, 94], b'\\x011:\\x1e': [95, 96], b'9\\xe7\\x88h': [97, 98, 99]})\n",
      "defaultdict(<class 'list'>, {b'\\x12\\xd1o\\xfd': [0, 1, 2, 3, 4], b'X\\xf2\\x00m': [5, 6, 7, 8, 9, 10, 11, 12, 13, 14, 15, 16, 17], b'\\xc0\\x08\\xc03': [18], b'\\xc8+\\xcd\\xc8': [19, 20, 21], b'\\x14\\x8f\\xd91': [22, 23, 24, 25, 26, 27, 28, 29, 30], b'C\\\\\\x83\\x83': [31, 32, 33, 34, 35, 36, 37, 38, 39, 40, 41, 42, 43, 44, 45, 46, 47, 48, 49, 50, 51, 52, 53, 54, 55, 56], b'\\x1f \\x89I': [57, 58, 59], b'\\xe4-\\xda9': [60], b'\\x03\\x1d\\x01\\x8b': [61], b'\\xb2\\xdb\\x92\\xc7': [62, 63, 64, 65, 66, 67], b'2\\xab\\x14\\x98': [68, 69, 70, 71, 72, 73, 74, 75], b'\\xccJ,Q': [76, 77, 78, 79, 80, 81, 82, 83, 84, 85, 86, 87, 88, 89, 90, 91, 92, 93, 94, 95, 96, 97, 98, 99]})\n",
      "defaultdict(<class 'list'>, {b'\\xb5\\xc6P\\xa6': [0, 1, 2, 3], b'|6K\\x1e': [4, 5], b'\\xc5\\x15\\xe2\\x8c': [6, 7], b'\\xec\\xee\\xcaf': [8, 9, 10, 11], b'\\xad\\xf3\\xf5\\t': [12, 13, 14, 15], b'O\\x05\\xcd\\x1a': [16], b'\\xb4ea\\xe2': [17, 18], b'(HQ\\xea': [19, 20, 21, 22], b'\\xe4\\xbc\\xd5\\xd5': [23, 24], b'\\x82+\\x1b\\x90': [25, 26, 27, 28, 29, 30, 31, 32, 33, 34, 35], b'w\\xd8\\xf0o': [36, 37, 38], b'4\\xe2O\\xc8': [39, 40, 41, 42, 43, 44, 45, 46, 47, 48, 49, 50, 51, 52], b'\\xe4\\xb3I\\xa2': [53, 54], b'\\xbd\\xc8\\xed\\xf1': [55], b'w\\x1b\\xaf*': [56, 57, 58, 59, 60, 61, 62, 63, 64, 65, 66, 67, 68, 69, 70, 71, 72], b'\\x17~\\xef\\xbd': [73, 74, 75, 76, 77, 78, 79], b'<D^\\x88': [80], b'\\xce\\xa1X\\xd9': [81, 82, 83, 84, 85, 86, 87, 88, 89, 90, 91], b'b\\x8e\\xf3\\xee': [92, 93, 94, 95, 96, 97, 98, 99]})\n"
     ]
    }
   ],
   "source": [
    "#print(Mat5[0:5,:])\n",
    "#x = xxhash.xxh32(seed=0)\n",
    "#print(x.digest())\n",
    "#x.update(str(1))\n",
    "#print(x.digest())\n",
    "#x.reset()\n",
    "#print(x.digest())\n",
    "for i in range(20):\n",
    "\n",
    "    print(band_buckets[i])"
   ]
  },
  {
   "cell_type": "markdown",
   "metadata": {},
   "source": [
    "as you can see, a lot of columns match in the same bucket, which makes sense, as the difference between two different columns from our example above is not that high."
   ]
  },
  {
   "cell_type": "markdown",
   "metadata": {},
   "source": [
    "# Exercise 7"
   ]
  },
  {
   "cell_type": "markdown",
   "metadata": {},
   "source": [
    "a)"
   ]
  },
  {
   "cell_type": "code",
   "execution_count": 56,
   "metadata": {},
   "outputs": [
    {
     "data": {
      "image/png": "[encoded data removed]",
      "text/plain": [
       "<Figure size 1000x800 with 4 Axes>"
      ]
     },
     "metadata": {},
     "output_type": "display_data"
    }
   ],
   "source": [
    "import matplotlib.pyplot as plt\n",
    "\n",
    "xmesh = np.linspace(0,1,100)\n",
    " \n",
    "fig, axs = plt.subplots(2, 2, figsize=(10, 8))\n",
    "\n",
    " \n",
    "i=0\n",
    "for r in [2,5]:\n",
    "    j=0\n",
    "    for b in [10,50]:\n",
    "       axs[i,j].plot(xmesh, 1-(1-xmesh**r)**b)\n",
    "       axs[i, j].set_title('r='+str(r)+\",  b=\"+str(b))\n",
    "       axs[i,j].hlines(0.5,0,1)\n",
    "       j+=1\n",
    "    i+=1"
   ]
  },
  {
   "cell_type": "markdown",
   "metadata": {},
   "source": [
    "the points where each curves hit 0.5 seem to be the following:\n",
    "\n",
    "|r\\b | 10 | 50 |\n",
    "|:--:|:--:|:--:|\n",
    "|2  | 0.25  | 0.12    |\n",
    "|5  | 0.58  |  0.42   |"
   ]
  },
  {
   "cell_type": "markdown",
   "metadata": {},
   "source": [
    "b)"
   ]
  },
  {
   "cell_type": "markdown",
   "metadata": {},
   "source": [
    "The highest ascend is exactly the point where y=0.5\n",
    "\n",
    "1-(1-x**r)**b = 0.5\n",
    "\n",
    "=> (1-x**r)**b = 0.5\n",
    "\n",
    "=> 1-x**r = 0.5**(1/b)\n",
    "\n",
    "=> x**r = -(0.5**(1/b)+1\n",
    "\n",
    "=> x = -(0.5**(1/b)+1)**(1/r)\n",
    "\n",
    "=> x = -(0.5**(1/b)+1)**(1/r)"
   ]
  },
  {
   "cell_type": "code",
   "execution_count": 64,
   "metadata": {},
   "outputs": [
    {
     "name": "stdout",
     "output_type": "stream",
     "text": [
      "R: 2 ,b: 10 , result: 0.2587798455506004\n",
      "R: 2 ,b: 50 , result: 0.11733411910710712\n",
      "R: 5 ,b: 10 , result: 0.5823340432817862\n",
      "R: 5 ,b: 50 , result: 0.4243944803687326\n"
     ]
    }
   ],
   "source": [
    "for r in [2,5]:\n",
    "    for b in [10,50]:\n",
    "        print(\"R:\",r,\",b:\",b,\", result:\",(-(0.5**(1/b))+1)**(1/r))\n"
   ]
  },
  {
   "cell_type": "markdown",
   "metadata": {},
   "source": [
    "i am surprised how precise my own esimations were to be honest"
   ]
  }
 ],
 "metadata": {
  "kernelspec": {
   "display_name": "MMD",
   "language": "python",
   "name": "python3"
  },
  "language_info": {
   "codemirror_mode": {
    "name": "ipython",
    "version": 3
   },
   "file_extension": ".py",
   "mimetype": "text/x-python",
   "name": "python",
   "nbconvert_exporter": "python",
   "pygments_lexer": "ipython3",
   "version": "3.10.8"
  }
 },
 "nbformat": 4,
 "nbformat_minor": 2
}
