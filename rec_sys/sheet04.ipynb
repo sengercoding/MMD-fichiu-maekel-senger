{
 "cells": [
  {
   "cell_type": "markdown",
   "metadata": {},
   "source": [
    "# MMD 2024, Problem Sheet 4\n",
    "\n",
    "Group: Daniela Fichiu, Aaron Maekel, Manuel Senger"
   ]
  },
  {
   "cell_type": "markdown",
   "metadata": {},
   "source": [
    "# Exercise 1"
   ]
  },
  {
   "cell_type": "markdown",
   "metadata": {},
   "source": [
    "\n",
    "\n",
    "### a)\n",
    "\n",
    "The probability that one machine doesnt fail during the time T is $1-p$, so the probability that all machines dont fail is $(1-p)^n$. The probability that at least one machine fails is the complement of this, so $1-(1-p)^n$.\n",
    "\n",
    "### b)\n",
    "Since there are two outcomes and the machines are independent, we  can use the binomial distribution. The probability that exactly k machines fail is given by the binomial distribution: $P(X=k) = \\binom{n}{k} p^k (1-p)^{n-k}$.\n",
    "\n",
    "### c)\n",
    "If we look at all the possible outcomes of the machines, we get $\\sum_{k=0}^{n} \\binom{n}{k} p^k (1-p)^{n-k} = 1$. This is because the sum of all probabilities of all possible outcomes is 1. This already almost looks like the formula we got, except for the k=0 case. We know from previously that for k=0 this is $(1-p)^n$, so we can rewrite the formula as $\\sum_{k=1}^{n} \\binom{n}{k} p^k (1-p)^{n-k} + (1-p)^n = 1$. Therefore we see that $p_1 + p_2 + ... + p_n = \\sum_{k=1}^{n} \\binom{n}{k} p^k (1-p)^{n-k} = 1 - (1-p)^n$."
   ]
  },
  {
   "cell_type": "markdown",
   "metadata": {},
   "source": [
    "# Exercise 2"
   ]
  },
  {
   "cell_type": "markdown",
   "metadata": {},
   "source": [
    "**MD5**: Produces a 128-bit hash. Though fast, it's insecure for password storage due to vulnerability to brute-force attacks.\n",
    "\n",
    "**SHA-256**: Part of the SHA-2 family, it generates a 256-bit hash and is slower than MD5, making it more secure for hashing passwords.\n",
    "\n",
    "**Rainbow Table**: A precomputed table for reversing cryptographic hash functions, used to crack password hashes. It's a time-memory trade-off, as it requires a lot of storage but speeds up the cracking process.\n",
    "\n",
    "**Salt**: Adding random data to the input of a hash function to guarantee unique hashes for the same input. It prevents hash collisions and rainbow table attacks."
   ]
  },
  {
   "cell_type": "markdown",
   "metadata": {},
   "source": [
    "# Exercise 3"
   ]
  },
  {
   "cell_type": "markdown",
   "metadata": {},
   "source": [
    "\n",
    "\n",
    "### a)\n",
    "The Java Class HashMap extends the Class AbstractMap and implements the interface Map. It gets K - the type of keys maintained by the map - and V - the type of mapped values - as parameters. The class has a default constructor that creates an empty HashMap with the default initial capacity (16) and load factor (0.75). The capacity is the number of bucktes in the hash table and the load factor is a measure of how full the has table is allowed to get before its capacity is automatically increased. \n",
    "\n",
    "### b)\n",
    "2. Adding a New <key, value> Pair to the Map\n",
    "\n",
    "When a new key-value pair is added, the process follows these steps:\n",
    "\n",
    "**Compute Hash:**\n",
    "The hash code of the key is calculated using the key.hashCode() method, and then a secondary hashing function is applied to reduce collisions. This hashed value is used to determine the index of the bucket where the entry will be stored.\n",
    "\n",
    "**Locate the Bucket**:\n",
    "    The index of the bucket is determined by applying the modulus operation to the hash value and the current number of buckets: index = hash % numberOfBuckets.\n",
    "\n",
    "**Check for Collisions**:\n",
    "    No Collision: If the bucket is empty, a new Node with the key-value pair is created and placed at the corresponding index in the array.\n",
    "    Collision: If the bucket already contains a Node, a collision has occurred. The new entry is added to the linked list (or balanced tree) at that bucket. If there is a list of nodes with the same hash value, the new Node is added at the head or end of the list (depending on the implementation)\n",
    "\n",
    "### c)\n",
    "**Compute Hash:**\n",
    "\n",
    "The hash code of the search key is computed using the key.hashCode() method, and the index of the corresponding bucket is found using the formula index = hash % numberOfBuckets.\n",
    "**\n",
    "Locate the Bucket:**\n",
    "\n",
    "The bucket at the computed index is accessed.\n",
    "\n",
    "**Search for the Key:**\n",
    "\n",
    "If there is only one entry in the bucket (i.e., no collision), the key-value pair is returned directly.\n",
    "If there are multiple entries (i.e., a collision), the map will iterate through the linked list (or balanced tree) of Node objects at that bucket.\n",
    "    The map will compare the search key with the keys of the nodes in the list using the equals() method.\n",
    "    If a matching key is found, the corresponding value is returned.\n",
    "    If no matching key is found in the list, the method returns null.\n"
   ]
  },
  {
   "cell_type": "markdown",
   "metadata": {},
   "source": [
    "# Exercise 4"
   ]
  },
  {
   "cell_type": "markdown",
   "metadata": {},
   "source": [
    "**Task:** Suppose you have to design/implement hash functions for a Bloom filter algorithm. Pro-\n",
    "pose 3 hash functions which are as independent from each other as possible and briefly\n",
    "justify your choice.\n",
    "\n",
    "**Solution:**\n",
    "\n",
    "1. Take all numbers at indices divisible by 3, sum them up, and divide them by 17.\n",
    "2. Take all numbers at indices divisible by 3 with remainder 1, sum them up, and divide them by 17.\n",
    "3. Take all numbers at indices divisible by 3 with remainder 2, sum them up, and divide them by 17."
   ]
  },
  {
   "cell_type": "markdown",
   "metadata": {},
   "source": [
    "# Exercise 5"
   ]
  },
  {
   "cell_type": "markdown",
   "metadata": {},
   "source": [
    "Consider a Bloom filter with a bit array of $n = 5$ bits.\n",
    "\n",
    "a) **Task:** Compute the probability that a random element gets hashed by a hash function to\n",
    "a given bit in the bit array by using the probability formula from Lecture 5 (slide\n",
    "Analysis: Throwing Darts (2)). Explain your answer.\n",
    "\n",
    "**Solution:** Since we are working with a single element, we set $m = 1$. Using the formula $1 - (1 - 1/n)^m$ with $n = 5$ and $m = 1$, we get $20\\%$.\n",
    "\n",
    "\n",
    "b) **Task:** Now we want to use the following hash functions (k = 2):\n",
    "- $h_1(x) = x \\text{ mod } 5$,\n",
    "- $h_2(x) = 2 · x + 3 \\text{ mod } 5$.\n",
    "\n",
    "\n",
    "Is every bit equally likely to be hit by one of the two hash functions? Suppose the\n",
    "numbers 4 and 1 are in the set that we want to find with the filter. Show the state\n",
    "of the bit array after you apply the hash functions to these numbers.\n",
    "\n",
    "**Solution:**\n",
    "- Array after $h_1$ `[0, 1, 0, 0, 1]`\n",
    "- Array after $h_2$ `[1, 1, 0, 0, 0]`\n",
    "- Final bit array   `[1, 1, 0, 0, 1]`\n",
    "\n",
    "\n",
    "\n",
    "c) **Task:** Consider again the hash functions and the bit array state as in Part b). How likely is it\n",
    "for a number in the stream to be a false positive? Use the false positive probability\n",
    "formula from Lecture 5 (slide Bloom Filter -- Analysis). Explain your answer.\n",
    "\n",
    "**Solution:** Using the formula $(1 - (1 - 1/n)^{km})^{k}$ with $k = 2$, $m = 2$ and $n = 5$ gives us $(1 - 0.8^{4})^{2} \\approx 50\\%$."
   ]
  },
  {
   "cell_type": "markdown",
   "metadata": {},
   "source": [
    "# Exercise 6\n",
    "\n",
    "Consider the Bloom filtering technique and the set of keys S with m members. Assume\n",
    "that you can control the size n of the bit array (bitset) used in the filter (n ≥ m) in steps\n",
    "m/8."
   ]
  },
  {
   "cell_type": "markdown",
   "metadata": {},
   "source": [
    "a)\n",
    "**Task:** \n",
    "Plot the optimal values of the number of hash functions k (as integers) for n =\n",
    "m, 2m, . . . , 20m. Describe your observations, if any"
   ]
  },
  {
   "cell_type": "code",
   "execution_count": 1,
   "metadata": {},
   "outputs": [
    {
     "data": {
      "text/plain": [
       "[<matplotlib.lines.Line2D at 0x2bb2a4d8a30>]"
      ]
     },
     "execution_count": 1,
     "metadata": {},
     "output_type": "execute_result"
    },
    {
     "data": {
      "image/png": "[encoded data removed]",
      "text/plain": [
       "<Figure size 640x480 with 1 Axes>"
      ]
     },
     "metadata": {},
     "output_type": "display_data"
    }
   ],
   "source": [
    "import numpy as np\n",
    "import matplotlib.pyplot as plt\n",
    "\n",
    "Nmesh= np.arange(1,21)\n",
    "plt.plot(Nmesh * np.log(2))"
   ]
  },
  {
   "cell_type": "markdown",
   "metadata": {},
   "source": [
    "the optimal k is growing proportional to the ratio n/m"
   ]
  },
  {
   "cell_type": "markdown",
   "metadata": {},
   "source": [
    "b)\n",
    "\n",
    "**Task:**\n",
    "\n",
    "Assume that you want to minimize the size n (which drives up your memory cost) for\n",
    "a given upper bound b on the expected false positive probability. Determine the\n",
    "optimal values for n (and so k) under this objective for b1 = 0.01, b2 = 0.005, and\n",
    "b3 = 0.001. Also state the (expected) false positive probability for each of these\n",
    "parameter combinations. Explain your approach and explain why you do not need\n",
    "to know the actual value of m."
   ]
  },
  {
   "cell_type": "markdown",
   "metadata": {},
   "source": [
    "**Solution:**\n",
    "\n",
    "We look at the ratio n/m instead of n, as this can be used to calculate the correct k and the false positive probability.\n",
    "We will search through a grid with step size 1/8."
   ]
  },
  {
   "cell_type": "code",
   "execution_count": 23,
   "metadata": {},
   "outputs": [
    {
     "name": "stdout",
     "output_type": "stream",
     "text": [
      "-----------------------\n",
      "b= 0.01\n",
      "n/m ratio 9.625\n",
      "false positive Probaility 0.009842603536832032\n",
      "-----------------------\n",
      "b= 0.005\n",
      "n/m ratio 11.125\n",
      "false positive Probaility 0.004782467206562176\n",
      "-----------------------\n",
      "b= 0.001\n",
      "n/m ratio 14.5\n",
      "false positive Probaility 0.0009429340108142648\n"
     ]
    }
   ],
   "source": [
    "Nm_mesh = np.arange(1,20,1/8)\n",
    "Mn_mesh = 1/Nm_mesh\n",
    "kopt = np.maximum(np.round(Nm_mesh * np.log(2)),np.ones((len(Nm_mesh))))\n",
    "\n",
    "b = (1 - np.exp(-kopt*Mn_mesh))**kopt\n",
    "for limit in [0.01,0.005,0.001]:   \n",
    "    print(\"-----------------------\")\n",
    "    print(\"b=\",limit)\n",
    "    indx= np.where(b < limit)[0][0]\n",
    "    print(\"n/m ratio\", Nm_mesh[indx])\n",
    "    \n",
    "    \n",
    "    print(\"false positive Probaility\",b[indx])"
   ]
  },
  {
   "cell_type": "markdown",
   "metadata": {},
   "source": [
    "# Exercise 7"
   ]
  },
  {
   "cell_type": "markdown",
   "metadata": {},
   "source": [
    "**Task:**\n",
    "Consider again the Bloom filtering technique. Prove that the optimal number kopt of hash\n",
    "functions for given size n of the bitset and a given number m of keys is kopt = n/m ln(2)\n",
    "(as claimed in the Lecture 5, slide Bloom Filter – Analysis (2)).\n",
    "**Solution:**\n",
    "We can see in the graph from Lecture 5, slide Bloom Filter – Analysis (2), that the shape of the probability curv implies  that there is one k which minimizes the probability of false positives.if $k_opt = n/m*ln(2)$ is indeed this minimum, then it solves the following minimization problem.\n",
    "\n",
    "$k_{opt} = min:(1 - e^{-km/n})^{k}$ \n",
    "\n",
    "We throw the ln function on it:\n",
    "\n",
    "$min: ln((1 - e^{-km/n})^{k}) = k * ln((1 - e^{-km/n}))  $\n",
    "This is solved by differentiating the objective and setting it equal to 0:\n",
    "\n",
    "(I) $ 0 = ln((1 - e^{-km/n})) + k * (m/n)*e^{-km/n}/(1 - e^{-km/n}) $\n",
    "\n",
    "If we input $kopt= n/m*ln(2)$ on the rhs then we get:\n",
    "\n",
    "$ ln((1 - e^{-n/m*ln(2)*m/n})) + n/m*ln(2) * (m/n)*e^{-n/m*ln(2)*m/n}/(1 - e^{-n/m*ln(2)*m/n}) $\n",
    "\n",
    "$=ln((1 - e^{-ln(2)})) + ln(2) * *e^{-ln(2)}/(1 - e^{-ln(2)}) = ln(1-0.5) + ln(2)*0.5/(1-0.5) = ln(1/2)+ln(2) = 0 $\n",
    "\n",
    "We thus know that kopt is a minimum.\n",
    "\n",
    "\n"
   ]
  },
  {
   "cell_type": "markdown",
   "metadata": {},
   "source": [
    "# Exercise 8"
   ]
  },
  {
   "cell_type": "markdown",
   "metadata": {},
   "source": [
    "**Task:** \n",
    "\n",
    "Suppose we have a stream of tuples with the schema Grades(university, courseID,\n",
    "studentID, grade). Assume universities are unique, but a courseID is unique only\n",
    "within a university (i.e., different universities may have different courses with the same\n",
    "ID, e.g., “IPI”) and likewise, studentIDs are unique only within a university (different\n",
    "universities may assign the same ID to different students). Suppose we want to answer\n",
    "certain queries approximately from a 1/20th sample of the data. For each of the queries\n",
    "below, indicate how you would construct the sample. That is, tell what the key attributes\n",
    "should be.\n",
    "\n",
    "a)\n",
    "**Task:** \n",
    "For each university, estimate the average number of students in a course.\n",
    "\n",
    "**Solution:**\n",
    "our key is the course,and we sample 1/20th of all courses from each university and pick all the students there,thus building the mean from less courses, but the courses have precise data about the amount of students.\n",
    "\n",
    "b)\n",
    "*Task:**\n",
    "Estimate the fraction of students who have an average grade of 2.0 or better.\n",
    "\n",
    "**Solution:**\n",
    "Our key is students\n",
    "\n",
    "c)\n",
    "**Task:**\n",
    "\n",
    "Estimate the fraction of courses where at least half of the students got the grade 1.7\n",
    "or better\n",
    "\n",
    "**Solution:**\n",
    "\n",
    "our key should be (uni,courses).\n",
    "\n",
    "\n"
   ]
  },
  {
   "cell_type": "markdown",
   "metadata": {},
   "source": [
    "# Exercise 9"
   ]
  },
  {
   "cell_type": "markdown",
   "metadata": {},
   "source": [
    "a) **Solution:** Yes, the output is the expeced one, i.e., the words along\n",
    "with their counts. The words are also split on white space.\n",
    "\n",
    "b) **Solution:** In this case, the sentence was sent 130 times instead of only once.\n",
    "130 new rows were created, with approx. 20 rows processed\n",
    "per second. A rows contais 10 characters, i.e., 10 bytes.\n",
    "Therefore, the throughput is 200 bytes/second."
   ]
  }
 ],
 "metadata": {
  "kernelspec": {
   "display_name": "MMD",
   "language": "python",
   "name": "python3"
  },
  "language_info": {
   "codemirror_mode": {
    "name": "ipython",
    "version": 3
   },
   "file_extension": ".py",
   "mimetype": "text/x-python",
   "name": "python",
   "nbconvert_exporter": "python",
   "pygments_lexer": "ipython3",
   "version": "3.10.8"
  }
 },
 "nbformat": 4,
 "nbformat_minor": 2
}
