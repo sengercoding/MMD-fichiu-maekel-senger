{
 "cells": [
  {
   "cell_type": "markdown",
   "metadata": {},
   "source": [
    "# MMD 2024, Problem Sheet 4\n",
    "\n",
    "Group: Daniela Fichiu, Aaron Maekel, Manuel Senger"
   ]
  },
  {
   "cell_type": "markdown",
   "metadata": {},
   "source": [
    "# Exercise 1\n",
    "\n",
    "### a)\n",
    "\n",
    "The probability that one machine doesnt fail during the time T is $1-p$, so the probability that all machines dont fail is $(1-p)^n$. The probability that at least one machine fails is the complement of this, so $1-(1-p)^n$.\n",
    "\n",
    "### b)\n",
    "Since there are two outcomes and the machines are independent, we  can use the binomial distribution. The probability that exactly k machines fail is given by the binomial distribution: $P(X=k) = \\binom{n}{k} p^k (1-p)^{n-k}$.\n",
    "\n",
    "### c)\n",
    "If we look at all the possible outcomes of the machines, we get $\\sum_{k=0}^{n} \\binom{n}{k} p^k (1-p)^{n-k} = 1$. This is because the sum of all probabilities of all possible outcomes is 1. This already almost looks like the formula we got, except for the k=0 case. We know from previously that for k=0 this is $(1-p)^n$, so we can rewrite the formula as $\\sum_{k=1}^{n} \\binom{n}{k} p^k (1-p)^{n-k} + (1-p)^n = 1$. Therefore we see that $p_1 + p_2 + ... + p_n = \\sum_{k=1}^{n} \\binom{n}{k} p^k (1-p)^{n-k} = 1 - (1-p)^n$."
   ]
  },
  {
   "cell_type": "markdown",
   "metadata": {},
   "source": [
    "# Exercise 2"
   ]
  },
  {
   "cell_type": "markdown",
   "metadata": {},
   "source": [
    "**MD5**: Produces a 128-bit hash. Though fast, it's insecure for password storage due to vulnerability to brute-force attacks.\n",
    "\n",
    "**SHA-256**: Part of the SHA-2 family, it generates a 256-bit hash and is slower than MD5, making it more secure for hashing passwords.\n",
    "\n",
    "**Rainbow Table**: A precomputed table for reversing cryptographic hash functions, used to crack password hashes. It's a time-memory trade-off, as it requires a lot of storage but speeds up the cracking process.\n",
    "\n",
    "**Salt**: Adding random data to the input of a hash function to guarantee unique hashes for the same input. It prevents hash collisions and rainbow table attacks."
   ]
  },
  {
   "cell_type": "markdown",
   "metadata": {},
   "source": [
    "# Exercise 3\n",
    "\n",
    "### a)\n",
    "The Java Class HashMap extends the Class AbstractMap and implements the interface Map. It gets K - the type of keys maintained by the map - and V - the type of mapped values - as parameters. The class has a default constructor that creates an empty HashMap with the default initial capacity (16) and load factor (0.75). The capacity is the number of bucktes in the hash table and the load factor is a measure of how full the has table is allowed to get before its capacity is automatically increased. \n",
    "\n",
    "### b)\n",
    "2. Adding a New <key, value> Pair to the Map\n",
    "\n",
    "When a new key-value pair is added, the process follows these steps:\n",
    "\n",
    "**Compute Hash:**\n",
    "The hash code of the key is calculated using the key.hashCode() method, and then a secondary hashing function is applied to reduce collisions. This hashed value is used to determine the index of the bucket where the entry will be stored.\n",
    "\n",
    "**Locate the Bucket**:\n",
    "    The index of the bucket is determined by applying the modulus operation to the hash value and the current number of buckets: index = hash % numberOfBuckets.\n",
    "\n",
    "**Check for Collisions**:\n",
    "    No Collision: If the bucket is empty, a new Node with the key-value pair is created and placed at the corresponding index in the array.\n",
    "    Collision: If the bucket already contains a Node, a collision has occurred. The new entry is added to the linked list (or balanced tree) at that bucket. If there is a list of nodes with the same hash value, the new Node is added at the head or end of the list (depending on the implementation)\n",
    "\n",
    "### c)\n",
    "**Compute Hash:**\n",
    "\n",
    "The hash code of the search key is computed using the key.hashCode() method, and the index of the corresponding bucket is found using the formula index = hash % numberOfBuckets.\n",
    "**\n",
    "Locate the Bucket:**\n",
    "\n",
    "The bucket at the computed index is accessed.\n",
    "\n",
    "**Search for the Key:**\n",
    "\n",
    "If there is only one entry in the bucket (i.e., no collision), the key-value pair is returned directly.\n",
    "If there are multiple entries (i.e., a collision), the map will iterate through the linked list (or balanced tree) of Node objects at that bucket.\n",
    "    The map will compare the search key with the keys of the nodes in the list using the equals() method.\n",
    "    If a matching key is found, the corresponding value is returned.\n",
    "    If no matching key is found in the list, the method returns null.\n"
   ]
  }
 ],
 "metadata": {
  "language_info": {
   "name": "python"
  }
 },
 "nbformat": 4,
 "nbformat_minor": 2
}
