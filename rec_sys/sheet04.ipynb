{
 "cells": [
  {
   "cell_type": "markdown",
   "metadata": {},
   "source": [
    "# MMD 2024, Problem Sheet 4\n",
    "\n",
    "Group: Daniela Fichiu, Aaron Maekel, Manuel Senger"
   ]
  },
  {
   "cell_type": "markdown",
   "metadata": {},
   "source": [
    "# Exercise 1"
   ]
  },
  {
   "cell_type": "markdown",
   "metadata": {},
   "source": [
    "\n",
    "\n",
    "### a)\n",
    "\n",
    "The probability that one machine doesnt fail during the time T is $1-p$, so the probability that all machines dont fail is $(1-p)^n$. The probability that at least one machine fails is the complement of this, so $1-(1-p)^n$.\n",
    "\n",
    "### b)\n",
    "Since there are two outcomes and the machines are independent, we  can use the binomial distribution. The probability that exactly k machines fail is given by the binomial distribution: $P(X=k) = \\binom{n}{k} p^k (1-p)^{n-k}$.\n",
    "\n",
    "### c)\n",
    "If we look at all the possible outcomes of the machines, we get $\\sum_{k=0}^{n} \\binom{n}{k} p^k (1-p)^{n-k} = 1$. This is because the sum of all probabilities of all possible outcomes is 1. This already almost looks like the formula we got, except for the k=0 case. We know from previously that for k=0 this is $(1-p)^n$, so we can rewrite the formula as $\\sum_{k=1}^{n} \\binom{n}{k} p^k (1-p)^{n-k} + (1-p)^n = 1$. Therefore we see that $p_1 + p_2 + ... + p_n = \\sum_{k=1}^{n} \\binom{n}{k} p^k (1-p)^{n-k} = 1 - (1-p)^n$."
   ]
  },
  {
   "cell_type": "markdown",
   "metadata": {},
   "source": [
    "# Exercise 2"
   ]
  },
  {
   "cell_type": "markdown",
   "metadata": {},
   "source": [
    "**MD5**: Produces a 128-bit hash. Though fast, it's insecure for password storage due to vulnerability to brute-force attacks.\n",
    "\n",
    "**SHA-256**: Part of the SHA-2 family, it generates a 256-bit hash and is slower than MD5, making it more secure for hashing passwords.\n",
    "\n",
    "**Rainbow Table**: A precomputed table for reversing cryptographic hash functions, used to crack password hashes. It's a time-memory trade-off, as it requires a lot of storage but speeds up the cracking process.\n",
    "\n",
    "**Salt**: Adding random data to the input of a hash function to guarantee unique hashes for the same input. It prevents hash collisions and rainbow table attacks."
   ]
  },
  {
   "cell_type": "markdown",
   "metadata": {},
   "source": [
    "# Exercise 3"
   ]
  },
  {
   "cell_type": "markdown",
   "metadata": {},
   "source": [
    "\n",
    "\n",
    "### a)\n",
    "The Java Class HashMap extends the Class AbstractMap and implements the interface Map. It gets K - the type of keys maintained by the map - and V - the type of mapped values - as parameters. The class has a default constructor that creates an empty HashMap with the default initial capacity (16) and load factor (0.75). The capacity is the number of bucktes in the hash table and the load factor is a measure of how full the has table is allowed to get before its capacity is automatically increased. \n",
    "\n",
    "### b)\n",
    "2. Adding a New <key, value> Pair to the Map\n",
    "\n",
    "When a new key-value pair is added, the process follows these steps:\n",
    "\n",
    "**Compute Hash:**\n",
    "The hash code of the key is calculated using the key.hashCode() method, and then a secondary hashing function is applied to reduce collisions. This hashed value is used to determine the index of the bucket where the entry will be stored.\n",
    "\n",
    "**Locate the Bucket**:\n",
    "    The index of the bucket is determined by applying the modulus operation to the hash value and the current number of buckets: index = hash % numberOfBuckets.\n",
    "\n",
    "**Check for Collisions**:\n",
    "    No Collision: If the bucket is empty, a new Node with the key-value pair is created and placed at the corresponding index in the array.\n",
    "    Collision: If the bucket already contains a Node, a collision has occurred. The new entry is added to the linked list (or balanced tree) at that bucket. If there is a list of nodes with the same hash value, the new Node is added at the head or end of the list (depending on the implementation)\n",
    "\n",
    "### c)\n",
    "**Compute Hash:**\n",
    "\n",
    "The hash code of the search key is computed using the key.hashCode() method, and the index of the corresponding bucket is found using the formula index = hash % numberOfBuckets.\n",
    "**\n",
    "Locate the Bucket:**\n",
    "\n",
    "The bucket at the computed index is accessed.\n",
    "\n",
    "**Search for the Key:**\n",
    "\n",
    "If there is only one entry in the bucket (i.e., no collision), the key-value pair is returned directly.\n",
    "If there are multiple entries (i.e., a collision), the map will iterate through the linked list (or balanced tree) of Node objects at that bucket.\n",
    "    The map will compare the search key with the keys of the nodes in the list using the equals() method.\n",
    "    If a matching key is found, the corresponding value is returned.\n",
    "    If no matching key is found in the list, the method returns null.\n"
   ]
  },
  {
   "cell_type": "markdown",
   "metadata": {},
   "source": [
    "# Exercise 4"
   ]
  },
  {
   "cell_type": "markdown",
   "metadata": {},
   "source": [
    "**Task:** Suppose you have to design/implement hash functions for a Bloom filter algorithm. Pro-\n",
    "pose 3 hash functions which are as independent from each other as possible and briefly\n",
    "justify your choice.\n",
    "\n",
    "**Solution:**\n",
    "\n",
    "1. Take all numbers at indices divisible by 3, sum them up, and divide them by 17.\n",
    "2. Take all numbers at indices divisible by 3 with remainder 1, sum them up, and divide them by 17.\n",
    "3. Take all numbers at indices divisible by 3 with remainder 2, sum them up, and divide them by 17."
   ]
  },
  {
   "cell_type": "markdown",
   "metadata": {},
   "source": [
    "# Exercise 5"
   ]
  },
  {
   "cell_type": "markdown",
   "metadata": {},
   "source": [
    "Consider a Bloom filter with a bit array of $n = 5$ bits.\n",
    "\n",
    "a) **Task:** Compute the probability that a random element gets hashed by a hash function to\n",
    "a given bit in the bit array by using the probability formula from Lecture 5 (slide\n",
    "Analysis: Throwing Darts (2)). Explain your answer.\n",
    "\n",
    "**Solution:** Since we are working with a single element, we set $m = 1$. Using the formula $1 - (1 - 1/n)^m$ with $n = 5$ and $m = 1$, we get $20\\%$.\n",
    "\n",
    "\n",
    "b) **Task:** Now we want to use the following hash functions (k = 2):\n",
    "- $h_1(x) = x \\text{ mod } 5$,\n",
    "- $h_2(x) = 2 · x + 3 \\text{ mod } 5$.\n",
    "\n",
    "\n",
    "Is every bit equally likely to be hit by one of the two hash functions? Suppose the\n",
    "numbers 4 and 1 are in the set that we want to find with the filter. Show the state\n",
    "of the bit array after you apply the hash functions to these numbers.\n",
    "\n",
    "**Solution:**\n",
    "- Array after $h_1$ `[0, 1, 0, 0, 1]`\n",
    "- Array after $h_2$ `[1, 1, 0, 0, 0]`\n",
    "- Final bit array   `[1, 1, 0, 0, 1]`\n",
    "\n",
    "\n",
    "\n",
    "c) **Task:** Consider again the hash functions and the bit array state as in Part b). How likely is it\n",
    "for a number in the stream to be a false positive? Use the false positive probability\n",
    "formula from Lecture 5 (slide Bloom Filter -- Analysis). Explain your answer.\n",
    "\n",
    "**Solution:** Using the formula $(1 - (1 - 1/n)^{km})^{k}$ with $k = 2$, $m = 2$ and $n = 5$ gives us $(1 - 0.8^{4})^{2} \\approx 50\\%$."
   ]
  },
  {
   "cell_type": "markdown",
   "metadata": {},
   "source": []
  },
  {
   "cell_type": "markdown",
   "metadata": {},
   "source": [
    "# Exercise 7"
   ]
  },
  {
   "cell_type": "markdown",
   "metadata": {},
   "source": [
    "**Task:**\n",
    "Consider again the Bloom filtering technique. Prove that the optimal number kopt of hash\n",
    "functions for given size n of the bitset and a given number m of keys is kopt = n/m ln(2)\n",
    "(as claimed in the Lecture 5, slide Bloom Filter – Analysis (2)).\n",
    "**Solution:**\n",
    "We can see in the graph from Lecture 5, slide Bloom Filter – Analysis (2), that the shape of the probability curv implies  that there is one k which minimizes the probability of false positives.if $k_opt = n/m*ln(2)$ is indeed this minimum, then it solves the following minimization problem.\n",
    "\n",
    "$k_{opt} = min:(1 - e^{-km/n})^{k}$ \n",
    "\n",
    "We throw the ln function on it:\n",
    "\n",
    "$min: ln((1 - e^{-km/n})^{k}) = k * ln((1 - e^{-km/n}))  $\n",
    "This is solved by differentiating the objective and setting it equal to 0:\n",
    "\n",
    "(I) $ 0 = ln((1 - e^{-km/n})) + k * (m/n)*e^{-km/n}/(1 - e^{-km/n}) $\n",
    "\n",
    "If we input $kopt= n/m*ln(2)$ on the rhs then we get:\n",
    "\n",
    "$ ln((1 - e^{-n/m*ln(2)*m/n})) + n/m*ln(2) * (m/n)*e^{-n/m*ln(2)*m/n}/(1 - e^{-n/m*ln(2)*m/n}) $\n",
    "\n",
    "$=ln((1 - e^{-ln(2)})) + ln(2) * *e^{-ln(2)}/(1 - e^{-ln(2)}) = ln(1-0.5) + ln(2)*0.5/(1-0.5) = ln(1/2)+ln(2) = 0 $\n",
    "\n",
    "We thus know that kopt is a minimum.\n",
    "\n",
    "\n"
   ]
  }
 ],
 "metadata": {
  "kernelspec": {
   "display_name": "ml_homework2",
   "language": "python",
   "name": "python3"
  },
  "language_info": {
   "name": "python",
   "version": "3.9.18"
  }
 },
 "nbformat": 4,
 "nbformat_minor": 2
}
