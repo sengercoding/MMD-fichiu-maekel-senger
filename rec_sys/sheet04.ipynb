{
 "cells": [
  {
   "cell_type": "markdown",
   "metadata": {},
   "source": [
    "# MMD 2024, Problem Sheet 4\n",
    "\n",
    "Group: Daniela Fichiu, Aaron Maekel, Manuel Senger"
   ]
  },
  {
   "cell_type": "markdown",
   "metadata": {},
   "source": [
    "# Exercise 1\n",
    "\n",
    "### a)\n",
    "\n",
    "The probability that one machine doesnt fail during the time T is $1-p$, so the probability that all machines dont fail is $(1-p)^n$. The probability that at least one machine fails is the complement of this, so $1-(1-p)^n$.\n",
    "\n",
    "### b)\n",
    "Since there are two outcomes and the machines are independent, we  can use the binomial distribution. The probability that exactly k machines fail is given by the binomial distribution: $P(X=k) = \\binom{n}{k} p^k (1-p)^{n-k}$.\n",
    "\n",
    "### c)\n",
    "If we look at all the possible outcomes of the machines, we get $\\sum_{k=0}^{n} \\binom{n}{k} p^k (1-p)^{n-k} = 1$. This is because the sum of all probabilities of all possible outcomes is 1. This already almost looks like the formula we got, except for the k=0 case. We know from previously that for k=0 this is $(1-p)^n$, so we can rewrite the formula as $\\sum_{k=1}^{n} \\binom{n}{k} p^k (1-p)^{n-k} + (1-p)^n = 1$. Therefore we see that $p_1 + p_2 + ... + p_n = \\sum_{k=1}^{n} \\binom{n}{k} p^k (1-p)^{n-k} = 1 - (1-p)^n$."
   ]
  },
  {
   "cell_type": "markdown",
   "metadata": {},
   "source": [
    "# Exercise 2"
   ]
  },
  {
   "cell_type": "markdown",
   "metadata": {},
   "source": [
    "**MD5**: Produces a 128-bit hash. Though fast, it's insecure for password storage due to vulnerability to brute-force attacks.\n",
    "\n",
    "**SHA-256**: Part of the SHA-2 family, it generates a 256-bit hash and is slower than MD5, making it more secure for hashing passwords.\n",
    "\n",
    "**Rainbow Table**: A precomputed table for reversing cryptographic hash functions, used to crack password hashes. It's a time-memory trade-off, as it requires a lot of storage but speeds up the cracking process.\n",
    "\n",
    "**Salt**: Adding random data to the input of a hash function to guarantee unique hashes for the same input. It prevents hash collisions and rainbow table attacks."
   ]
  }
 ],
 "metadata": {
  "language_info": {
   "name": "python"
  }
 },
 "nbformat": 4,
 "nbformat_minor": 2
}
