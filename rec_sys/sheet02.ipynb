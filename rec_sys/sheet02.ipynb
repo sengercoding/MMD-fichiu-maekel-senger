{
 "cells": [
  {
   "cell_type": "markdown",
   "metadata": {
    "id": "f_4PlFo8maSj"
   },
   "source": [
    "# MMD 2024, Problem Sheet 2: Latent Factor Models\n",
    "\n",
    "Group: Daniela Fichiu, Aaron Maekel, Manuel Senger"
   ]
  },
  {
   "cell_type": "markdown",
   "metadata": {
    "id": "-D0cxz7umaSj"
   },
   "source": [
    "## Exercise 1\n",
    "\n",
    "**Task:** Consider a web shop that sells furniture and uses a recommendation system. When a\n",
    "new user creates an account and likes one product, he will be presented with similar\n",
    "products on his next visit.\n",
    "\n",
    "How can a competitor - in principle - try to steal the valuable data for recommendation\n",
    "from this website? Does this work better when the web shop implemented a content-\n",
    "based (CB) or a collaborative filtering (CF) system? What data would the competitor be able to\n",
    "infer? Would this technique have an impact on the recommendation system, i.e., would\n",
    "this attack create a bias on the data? Why is this attack probably not viable in any\n",
    "case?\n",
    "\n",
    "**Solution:** By liking a product and receiving a list of similar products, the competitor can infer which products are similar to the one liked. This works better when the shop implements a CB approach. On one hand, the cold-start problem specific to CF disappears. On the other hand, user-user CF is based on matching a specific user to all the others. That is, a CF approach would mean the competitor would have to create specific users to receive recommendations for this specific user. The competitor would be able to infer which products are similar to the liked product. While a slight bias might be thinkable in the CF case, irrespective of the recommendation approach, nothing would happen. In the CB setting this is due to the features being hand-crafted. For the user-user CF setting, the competitor would have to create user vectors somewhat similar to the existing ones and additionally like items that the existing user would have never considered. The attack is not viable since it would require the creation of many user accounts which would like a single item or a very small set of items. This activity, however, would most certainly be detected by the server hosting the web shop."
   ]
  },
  {
   "cell_type": "markdown",
   "metadata": {
    "id": "T0MW7woAmaSk"
   },
   "source": [
    "## Exercise 2\n",
    "\n",
    "The following table shows a utility matrix with ratings on a 1-5 star scale of eight items, a through h, by three users, A, B and C.\n",
    "\n",
    "|   | a | b | c | d | e | f | g | h |\n",
    "|---|---|---|---|---|---|---|---|---|\n",
    "| A | 4 | 5 |   | 5 | 1 |   | 3 | 2 |\n",
    "| B |   | 3 | 4 | 3 | 1 | 2 | 1 |   |\n",
    "| C | 2 |   | 1 | 3 |   | 4 | 5 | 3 |\n",
    "\n",
    "Perform the following tasks. Submit only your results (no code, even if you have used any).\n",
    "\n",
    "a) **Task:** Treating each blank entry in the utility matrix as 0, compute the cosine distance between each pair of users.\n",
    "\n",
    "**Solution:**\n",
    "The cosine distance is defined as $1 -$ the cosine similarity. Therefore, we first compute the dot products between the vectors and their norms, and then the cosine similarites.\n",
    "\n",
    "Norms:\n",
    "- $\\Vert A \\Vert_2 = (4^2 + 5^2 + 5^2 + 1 + 3^2 + 2^2)^{1/2} \\approx 9$\n",
    "- $\\Vert B \\Vert_2 = (3^2 + 4^2 + 3^2 + 1 + 2^2 + 1)^{1/2} \\approx 6$\n",
    "- $\\Vert C \\Vert_2 = (2^2 + 1 + 3^2 + 4^2 + 5^2 + 3^2)^{1/2} = 8$\n",
    "\n",
    "Dot products:\n",
    "- $ A \\cdot B = (4 \\cdot 0 + 5 \\cdot 3 + 0 \\cdot 4 + 5 \\cdot 3 + 1 \\cdot 1 + 0 \\cdot 2 + 3 \\cdot 1 + 2 \\cdot 0) = 34$\n",
    "- $ A \\cdot C = (4 \\cdot 2 + 5 \\cdot 0 + 0 \\cdot 1 + 5 \\cdot 3 + 1 \\cdot 0 + 0 \\cdot 4 + 3 \\cdot 5 + 2 \\cdot 3) = 44$\n",
    "- $ B \\cdot C = (0 \\cdot 2 + 3 \\cdot 0 + 4 \\cdot 1 + 3 \\cdot 3 + 1 \\cdot 0 + 2 \\cdot 4 + 1 \\cdot 5 + 0 \\cdot 3) = 26$\n",
    "\n",
    "Cosine similarities:\n",
    "- $\\cos_\\text{sim}(A, B) = A \\cdot B / \\Vert A \\Vert_2 \\Vert B \\Vert_2 = 34 / 9 \\cdot 6 \\approx 0.6$\n",
    "- $\\cos_\\text{sim}(A, C) = A \\cdot C / \\Vert A \\Vert_2 \\Vert C \\Vert_2 = 44 / 9 \\cdot 8 \\approx 0.6$\n",
    "- $\\cos_\\text{sim}(B, C) = B \\cdot C / \\Vert B \\Vert_2 \\Vert C \\Vert_2 = 26 / 6 \\cdot 8 \\approx 0.55$\n",
    "\n",
    "Cosiene distances:\n",
    "- $\\cos_\\text{dist}(A, B) = 1 - \\cos_\\text{sim}(A, B) \\approx 1 - 0.6 \\approx 0.4$\n",
    "- $\\cos_\\text{dist}(A, C) = 1 - \\cos_\\text{sim}(A, C) \\approx 1 - 0.6 \\approx 0.4$\n",
    "- $\\cos_\\text{dist}(B, C) = 1 - \\cos_\\text{sim}(B, C) \\approx 1 - 0.55 \\approx 0.45$\n",
    "\n",
    "\n",
    "b) **Task:** Treating ratings of 3, 4, and 5 as 1 and 1, 2, and blank as 0, compute the cosine distance between each pair of users. Compare these results to those obtain in Part a).\n",
    "\n",
    "**Solution:** Converting 3 and 4 to 1 and 5 to 2, we obtain the following utility matrix:\n",
    "\n",
    "\n",
    "|   | a | b | c | d | e | f | g | h |\n",
    "|---|---|---|---|---|---|---|---|---|\n",
    "| A | 1 | 2 |   | 2 | 1 |   | 1 | 2 |\n",
    "| B |   | 1 | 1 | 1 | 1 | 2 | 1 |   |\n",
    "| C | 2 |   | 1 | 1 |   | 1 | 2 | 1 |\n",
    "\n",
    "For the obtained utility matrix, we repeat the steps from Part a).\n",
    "\n",
    "Norms:\n",
    "- $\\Vert A \\Vert_2 = (1^2 + 2^2 + 2^2 + 1 + 1^2 + 2^2)^{1/2} \\approx 4$\n",
    "- $\\Vert B \\Vert_2 = (1^2 + 1^2 + 1^2 + 1 + 2^2 + 1)^{1/2} \\approx 3$\n",
    "- $\\Vert C \\Vert_2 = (2^2 + 1 + 1^2 + 1^2 + 2^2 + 1^2)^{1/2} \\approx 3.5$\n",
    "\n",
    "Dot products:\n",
    "- $ A \\cdot B = (1 \\cdot 0 + 2 \\cdot 1 + 0 \\cdot 1 + 2 \\cdot 1 + 1 \\cdot 1 + 0 \\cdot 2 + 1 \\cdot 1 + 2 \\cdot 0) = 6$\n",
    "- $ A \\cdot C = (1 \\cdot 2 + 2 \\cdot 0 + 0 \\cdot 1 + 2 \\cdot 1 + 1 \\cdot 0 + 0 \\cdot 1 + 1 \\cdot 2 + 2 \\cdot 1) = 8$\n",
    "- $ B \\cdot C = (0 \\cdot 2 + 1 \\cdot 0 + 1 \\cdot 1 + 1 \\cdot 1 + 1 \\cdot 0 + 2 \\cdot 1 + 1 \\cdot 2 + 0 \\cdot 1) = 6$\n",
    "\n",
    "Cosine similarities:\n",
    "- $\\cos_\\text{sim}(A, B) = A \\cdot B / \\Vert A \\Vert_2 \\Vert B \\Vert_2 = 6 / 4 \\cdot 3 \\approx 0.5$\n",
    "- $\\cos_\\text{sim}(A, C) = A \\cdot C / \\Vert A \\Vert_2 \\Vert C \\Vert_2 = 8 / 4 \\cdot 3.5 \\approx 0.57$\n",
    "- $\\cos_\\text{sim}(B, C) = B \\cdot C / \\Vert B \\Vert_2 \\Vert C \\Vert_2 = 6 / 3 \\cdot 3.5 \\approx 0.57$\n",
    "\n",
    "Cosine distances:\n",
    "- $\\cos_\\text{dist}(A, B) = 1 - \\cos_\\text{sim}(A, B) \\approx 1 - 0.5 \\approx 0.5$\n",
    "- $\\cos_\\text{dist}(A, C) = 1 - \\cos_\\text{sim}(A, C) \\approx 1 - 0.57 \\approx 0.43$\n",
    "- $\\cos_\\text{dist}(B, C) = 1 - \\cos_\\text{sim}(B, C) \\approx 1 - 0.57 \\approx 0.43$\n",
    "\n",
    "The results obtained are similar to those from Part a). The biggest changes are in the cosine distances of A. This is due to the fact that from the 6 non-blank entries of A (of which two were 5), four got changed.\n",
    "\n",
    "c) **Task:** Normalize the matrix by substracting from each non-blank entry the average value for its user. Then compute the cosine distance between each pair of users (blank entries are treated as 0).\n",
    "\n",
    "**Solution:** We compute the averages only over the existing values:\n",
    "\n",
    "Averages:\n",
    "- $A = \\frac{(4 + 5 + 5 + 1 + 3 + 2)}{6} \\approx 3.3$\n",
    "- $B = \\frac{(3 + 4 + 3 + 1 + 2 + 1)}{6} \\approx 2.3$\n",
    "- $C = \\frac{(2 + 1 + 3 + 4 + 5 + 3)}{6} = 3$\n",
    "\n",
    "The normalized matrix has is then given by\n",
    "\n",
    "\n",
    "|   | a | b | c | d | e | f | g | h |\n",
    "|---|---|---|---|---|---|---|---|---|\n",
    "| A | 0.7 | 1.7 |   | 1.7 | -2.3 |   | -0.3 | -1.3 |\n",
    "| B |   | 0.7 | 1.7 | 0.7 | -1.3 | -0.3 | -1.3 |   |\n",
    "| C | -1 |   | -2 | 0 |   | 1 | 2 | 0 |\n",
    "\n",
    "\n",
    "Norms:\n",
    "- $\\Vert A \\Vert_2 \\approx 3.6$\n",
    "- $\\Vert B \\Vert_2 \\approx 2.7$\n",
    "- $\\Vert C \\Vert_2 \\approx 3.1$\n",
    "\n",
    "Dot products:\n",
    "- $ A \\cdot B \\approx 5.7$\n",
    "- $ A \\cdot C \\approx -1.29$\n",
    "- $ B \\cdot C \\approx -6.3$\n",
    "\n",
    "Cosine similarities:\n",
    "- $\\cos_\\text{sim}(A, B) = A \\cdot B / \\Vert A \\Vert_2 \\Vert B \\Vert_2 = 5.7 / (3.6 \\cdot 2.7) \\approx 0.5$\n",
    "- $\\cos_\\text{sim}(A, C) = A \\cdot C / \\Vert A \\Vert_2 \\Vert C \\Vert_2 = -1.29 / (3.6 \\cdot 3.1) \\approx -0.1$\n",
    "- $\\cos_\\text{sim}(B, C) = B \\cdot C / \\Vert B \\Vert_2 \\Vert C \\Vert_2 = -6.3 / (2.7 \\cdot 3.1) \\approx -0.7$\n",
    "\n",
    "Cosine distances:\n",
    "- $\\cos_\\text{dist}(A, B) = 1 - \\cos_\\text{sim}(A, B) \\approx 1 - 0.5 \\approx 0.5$\n",
    "- $\\cos_\\text{dist}(A, C) = 1 - \\cos_\\text{sim}(A, C) \\approx 1 + 0.1 \\approx 1.1$\n",
    "- $\\cos_\\text{dist}(B, C) = 1 - \\cos_\\text{sim}(B, C) \\approx 1 + 0.7 \\approx 1.7$\n",
    "\n",
    "d) **Task:** Compute the Pearson correlation coefficient between each pair of users as defined in Lecture 1 (slide \"From Cosine to Pearson\"). Compare these results to those obtained in Part c) and state your conclusions.\n",
    "\n",
    "**Solution:** The only difference between the Pearson coefficient and the cosine similarites computed in Part c) is that the Pearson coefficient computes the norm-like denominators over the commonly rated items.\n",
    "\n",
    "Denominators for the cosine similarity between:\n",
    "- $A$ and $B$: $d_{AB} \\approx 7$ (over items b, d, e, g)\n",
    "- $A$ and $C$: $d_{AC} \\approx 5$ (over items a, d, g, h)\n",
    "- $B$ and $C$: $d_{BC} \\approx 7$ (over items c, d, f, g)\n",
    "\n",
    "Cosine similarities:\n",
    "- $\\cos_\\text{sim}(A, B) = A \\cdot B / d_{AB} \\approx 5.7 / 7 \\approx 0.8$\n",
    "- $\\cos_\\text{sim}(A, C) = A \\cdot C / d_{AC} \\approx -1.29 / 5 \\approx -0.2$\n",
    "- $\\cos_\\text{sim}(B, C) = B \\cdot C / d_{BC} \\approx -6.3 / 7 \\approx -0.9$\n",
    "\n",
    "Cosine distances:\n",
    "- $\\cos_\\text{dist}(A, B) = 1 - \\cos_\\text{sim}(A, B) \\approx 1 - 0.8 \\approx 0.2$\n",
    "- $\\cos_\\text{dist}(A, C) = 1 - \\cos_\\text{sim}(A, C) \\approx 1 + 0.2 \\approx 1.2$\n",
    "- $\\cos_\\text{dist}(B, C) = 1 - \\cos_\\text{sim}(B, C) \\approx 1 + 0.9 \\approx 1.9$\n",
    "\n",
    "By only considering the items rated by both users, the denominators become smaller (the norms are computed with less elements). Therefore, the similarities are bigger and the distances smaller."
   ]
  },
  {
   "cell_type": "markdown",
   "metadata": {
    "id": "ucgaQ31omaSk"
   },
   "source": [
    "## Exercise 3"
   ]
  },
  {
   "cell_type": "markdown",
   "metadata": {
    "id": "9kBocwEpmaSk"
   },
   "source": [
    "Consider the function `uv_factorization_vec_no_reg` from `rec_sys/lf_algorithms.py` and the functions utilized there. Perform the following tasks:\n",
    "\n",
    "a) **Task:** Implement the function `uv_factorization_vec_reg` (along with any necessary helper or sub-functions) which executes the SDG using a loss function with the regularization terms discussed in the lecture. Use one common regularization parameter for both matrices. Test your implementation using the settings from `rec_sys/config.py` (you might need to adjust  some hyperparameters). Then, use the function `show_metrics_and_examples` to compare the convergence and the accuracy of your function against the non-regularizd version of SGD from the original (i.e., repository) code.\n",
    "\n",
    "**Solution:** See `uv_factorization_vec_reg` in `rec_sys/lf_algorithms.py`.\n",
    "\n",
    "b) **Solution:** The grid search was done in 'lf_algorithms_grid_search.py' , we tried the learning rates  [0.1 , 0.05, 0.01, 0.005, 0.001] and the regularization parameters [0.0001,0.0005, 0.001, 0.005 ,0.01  ].\n",
    "We compared them after the MSE over all test data.\n",
    "\n",
    "|reg\\lr  | 0.1 | 0.05 | 0.01 | 0.005 | 0.001 |\n",
    "|--------|-----|------|------|-------|-------| \n",
    "| 0.0001 |3.08 | 0.98 | 1.12 | 1.21  | 1.46  | \n",
    "| 0.0005 |1.65 | 0.96 | 1.00 | 1.03  | 1.34  | \n",
    "| 0.001  |1.31 | 0.95 | 0.98 | 0.99  | 1.26  | \n",
    "| 0.005  |1.46 | 1.31 | 1.22 | 1.14  | 1.26  | \n",
    "| 0.01   |2.57 | 2.43 | 1.98 | 1.64  | 1.38  | \n",
    "\n",
    "The winner was lr= 0.05 , reg = 0.001. We compared this to the original Algorithm, again the criterium was the MSE on the test data set:\n",
    "\n",
    "Original Algorithm:  1.1605393\n",
    "\n",
    "fixed_lr and with reg:    1.0945647\n",
    "\n",
    "\n",
    "\n",
    "\n"
   ]
  },
  {
   "cell_type": "markdown",
   "metadata": {},
   "source": [
    "## Exercise 4\n",
    "\n"
   ]
  },
  {
   "cell_type": "markdown",
   "metadata": {},
   "source": [
    "# a)\n",
    "\n",
    "If the maximum Degree is N for one variable, than it can be in the polynomial part as {0,1,...,N} variants.\n",
    "THis means that there are (N_x + 1 ) * (N_Y + 1)  * ( N_z + 1) possible  combinations of these variables resulting in the same amount of coefficients.\n",
    "\n",
    "Version 1: Shape: [t,4] (x,y,z, and coeff) (dependent on t)\n",
    "\n",
    "Version 2:This would result in an three dimensional matrix having the shape [((N_x + 1 ), (N_Y + 1),( N_z + 1))] (independent of t )\n",
    "\n",
    "we tried implementing both versions, as we were unsure how to proceed, in both cases problems arised."
   ]
  },
  {
   "cell_type": "markdown",
   "metadata": {},
   "source": [
    "# b)"
   ]
  },
  {
   "cell_type": "code",
   "execution_count": 6,
   "metadata": {},
   "outputs": [],
   "source": [
    "#import rec_sys.jax_intro as jax_intro\n",
    "import jax.numpy as jnp\n",
    "import jax\n",
    "import time\n",
    "import random\n",
    "rnd_seed = int(time.time())\n",
    "rnd_key = jax.random.PRNGKey(rnd_seed)"
   ]
  },
  {
   "cell_type": "markdown",
   "metadata": {},
   "source": [
    "Version 1:"
   ]
  },
  {
   "cell_type": "code",
   "execution_count": 9,
   "metadata": {},
   "outputs": [
    {
     "name": "stdout",
     "output_type": "stream",
     "text": [
      "Example polynomial based on Polynomial configuration 2\n",
      "[[ 0  1  0  0]\n",
      " [ 3  0  2  2]\n",
      " [ 0  1  2  1]\n",
      " [ 1  0  0 -4]\n",
      " [ 2  1  2 -5]]\n"
     ]
    }
   ],
   "source": [
    "\n",
    "\n",
    "def gen_polynomial(Nx,Ny,Nz,t):\n",
    "    \n",
    "    max_arr = [Nx,Ny,Nz]\n",
    "    \n",
    "    \n",
    "    indx = jax.random.randint(  rnd_key, (t,3), jnp.zeros((t,3)),\n",
    "                                jnp.reshape(jnp.repeat(jnp.array([Nx+1,Ny+1,Nz+1]),repeats=t,axis=0 ),\n",
    "                                newshape=(3,t)).T)\n",
    "    \n",
    "    \n",
    "    for i in range(3):\n",
    "        \n",
    "        if max(indx[:,i])< max_arr[i] :\n",
    "            rnd_indx = random.randint(0, t-1)\n",
    "            indx = indx.at[rnd_indx,i].set(max_arr[i]) \n",
    "    LIM = 5\n",
    "    rnd_coeff = jax.random.randint(  rnd_key, (t,1), -LIM * jnp.ones((t,1)),\n",
    "                                    LIM * jnp.ones((t,1))\n",
    "                                     )\n",
    "    coeff_mat = jnp.hstack([indx,rnd_coeff])\n",
    "    return(coeff_mat)\n",
    "\n",
    "\n",
    "\n",
    "def f(x,y,z,polym):\n",
    "    res = jnp.zeros(x.shape[0])\n",
    "    for i in range(polym.shape[0]):\n",
    "        res += polym[i,3] * jnp.power(x,polym[i,0])* jnp.power(y,polym[i,1])* jnp.power(z,polym[i,2])\n",
    "    return(res)\n",
    "\n",
    "\n",
    "\n",
    "\n",
    "def generate_noisy_set(N,coeff_mat):\n",
    "    noise_frac, rnd_seed =  0.25, int(time.time())\n",
    "    x,y,z = jnp.linspace(-3, 3,N),jnp.linspace(-3, 3,N),jnp.linspace(-3, 3,N)\n",
    "    res_pure = f(x,y,z,coeff_mat)\n",
    "    # Add some noise to data\n",
    "    rnd_key = jax.random.PRNGKey(rnd_seed)\n",
    "    y_with_noise = res_pure + res_pure * noise_frac * jax.random.normal(rnd_key, (N,))\n",
    "    return x,y,z,y_with_noise\n",
    "\n",
    "polym = gen_polynomial(3,1,2,5)\n",
    "print(\"Example polynomial based on Polynomial configuration 2\")\n",
    "print(polym)\n",
    "#print(generate_noisy_set(10,polym) )\n",
    "\n",
    "#print(generate_noisy_set(2,jnp.array([[1,1,1,1],[0,0,0,0]])) )\n",
    "\n"
   ]
  },
  {
   "cell_type": "markdown",
   "metadata": {},
   "source": [
    "Version 2:"
   ]
  },
  {
   "cell_type": "code",
   "execution_count": 10,
   "metadata": {},
   "outputs": [
    {
     "name": "stdout",
     "output_type": "stream",
     "text": [
      "Example polynomial based on Polynomial configuration 2\n",
      "[[[ 0.  0.  0.]\n",
      "  [ 0.  0.  3.]]\n",
      "\n",
      " [[ 0.  0.  0.]\n",
      "  [-1.  0.  0.]]\n",
      "\n",
      " [[ 0. -1.  0.]\n",
      "  [ 0. -1.  0.]]\n",
      "\n",
      " [[ 0.  0.  0.]\n",
      "  [ 0.  1.  0.]]]\n"
     ]
    }
   ],
   "source": [
    "def gen_polynomial2(Nx,Ny,Nz,t):\n",
    "    LIM = 3\n",
    "    rnd_seed = int(time.time())\n",
    "    max_arr = [Nx,Ny,Nz]\n",
    "\n",
    "    coeff_mat = jnp.zeros((Nx+1,Ny+1,Nz+1))\n",
    "    for _ in range(t):\n",
    "        rnd_coeff = random.randint(-LIM,LIM)\n",
    "        while rnd_coeff ==0:\n",
    "            rnd_coeff = random.randint(-LIM,LIM)\n",
    "        coeff_mat = coeff_mat.at[random.randint(0,Nx),random.randint(0,Ny),random.randint(0,Nz)].set(rnd_coeff) \n",
    "\n",
    "\n",
    "    while not jnp.any(coeff_mat[-1,:,:]):\n",
    "        coeff_mat = jnp.roll(coeff_mat,1,0)\n",
    "    while not jnp.any(coeff_mat[:,-1,:]):\n",
    "        coeff_mat = jnp.roll(coeff_mat,1,1)\n",
    "    while not jnp.any(coeff_mat[...,-1]):\n",
    "        coeff_mat = jnp.roll(coeff_mat,1,2)\n",
    "    return coeff_mat\n",
    "\n",
    "\n",
    "def f2(x,y,z,polym):\n",
    "    res = jnp.zeros(x.shape[0])\n",
    "    for i in range(polym.shape[0]):\n",
    "        for j in range(polym.shape[1]):\n",
    "            for k in range(polym.shape[2]):\n",
    "                res += polym[i,j,k] * jnp.power(x,i)* jnp.power(y,j)* jnp.power(z,k)\n",
    "    return(res)\n",
    "\n",
    "def generate_noisy_set2(N,coeff_mat):\n",
    "    noise_frac, rnd_seed =  0.25, int(time.time())\n",
    "    x,y,z = jnp.linspace(-3, 3,N),jnp.linspace(-3, 3,N),jnp.linspace(-3, 3,N)\n",
    "    res_pure = f2(x,y,z,coeff_mat)\n",
    "    # Add some noise to data\n",
    "\n",
    "    res_with_noise = res_pure + res_pure * noise_frac * jax.random.normal(rnd_key, (N,))\n",
    "    return x,y,z,res_with_noise\n",
    "\n",
    "polym = gen_polynomial2(3,1,2,5)\n",
    "print(\"Example polynomial based on Polynomial configuration 2\")\n",
    "print(polym)"
   ]
  },
  {
   "cell_type": "markdown",
   "metadata": {},
   "source": [
    "# c)"
   ]
  },
  {
   "cell_type": "markdown",
   "metadata": {},
   "source": [
    "Version 1:\n"
   ]
  },
  {
   "cell_type": "code",
   "execution_count": 13,
   "metadata": {},
   "outputs": [
    {
     "name": "stdout",
     "output_type": "stream",
     "text": [
      "\n",
      "===== Running Stochastic Gradient Descent =====\n",
      "Epoch 0: param_w=[[nan nan nan nan]\n",
      " [nan nan nan nan]\n",
      " [nan nan nan nan]\n",
      " [nan nan nan nan]\n",
      " [nan nan nan nan]], grad=[[nan nan nan nan]\n",
      " [nan nan nan nan]\n",
      " [nan nan nan nan]\n",
      " [nan nan nan nan]\n",
      " [nan nan nan nan]], loss=nan\n",
      "[[ 0  1  0  0]\n",
      " [ 3  0  2  2]\n",
      " [ 0  1  2  1]\n",
      " [ 1  0  0 -4]\n",
      " [ 2  1  2 -5]]\n",
      "[[nan nan nan nan]\n",
      " [nan nan nan nan]\n",
      " [nan nan nan nan]\n",
      " [nan nan nan nan]\n",
      " [nan nan nan nan]]\n"
     ]
    }
   ],
   "source": [
    " \n",
    "#polynomials:\n",
    "polym1 = gen_polynomial(2,4,6,12)\n",
    "polym2 = gen_polynomial(3,1,2,5)\n",
    "\n",
    "def SGD(polynomial,Nx,Ny,Nz,t):\n",
    "\n",
    "    # %% Run the SG loop\n",
    "    num_epochs = 1\n",
    "    learning_rate = 0.05\n",
    "    train_set_size = 10000\n",
    "    train_ds  = jnp.asarray(generate_noisy_set(train_set_size ,polynomial))\n",
    "    \n",
    "    param_w = gen_polynomial(Nx,Ny,Nz,t).astype(float)  # Initial guess for the parameter\n",
    "\n",
    "    # %% Define a simple loss function and its gradient\n",
    "    def loss(param_w, data):\n",
    "        # return  jnp.sum((data[:,1] - f(data[:,0], param_w))**2)\n",
    "        res = f(data[0],data[1],data[2], param_w)\n",
    "\n",
    "        return jnp.log(jnp.sum((data[3] - res) ** 2)) \n",
    "\n",
    "\n",
    "    # Using JAX automatic differentiation - autograd\n",
    "    grad_loss = jax.grad(loss)#,allow_int=True)\n",
    "\n",
    "    num_points_per_batch = train_set_size // 5\n",
    "    print(\"\\n===== Running Stochastic Gradient Descent =====\")\n",
    "    for epoch in range(num_epochs):\n",
    "        # Get points for the current batch\n",
    "        for i in range(0, train_set_size, num_points_per_batch):\n",
    "            batch = train_ds[:,i:i + num_points_per_batch]\n",
    "            grad = grad_loss(param_w, batch)\n",
    "            param_w = param_w - learning_rate * grad\n",
    "\n",
    "        print(f\"Epoch {epoch}: param_w={param_w}, grad={grad}, loss={loss(param_w, train_ds)}\")\n",
    "\n",
    "    print(polynomial)\n",
    "    print(param_w)\n",
    "SGD(polym2,3,1 ,2,5)\n"
   ]
  },
  {
   "cell_type": "markdown",
   "metadata": {},
   "source": [
    "Parts of the gradient correlating for the x y and z data became NaN, thus destroying the whole process."
   ]
  },
  {
   "cell_type": "markdown",
   "metadata": {},
   "source": [
    "Version 2:"
   ]
  },
  {
   "cell_type": "code",
   "execution_count": 12,
   "metadata": {},
   "outputs": [
    {
     "name": "stdout",
     "output_type": "stream",
     "text": [
      "[[[ 0.  0.  0.]\n",
      "  [ 0. -2.  0.]]\n",
      "\n",
      " [[ 0.  0. -2.]\n",
      "  [ 0. -1.  0.]]\n",
      "\n",
      " [[ 0.  0.  0.]\n",
      "  [ 0.  0.  0.]]\n",
      "\n",
      " [[ 0.  0.  0.]\n",
      "  [ 0.  0. -3.]]]\n",
      "\n",
      "===== Running Stochastic Gradient Descent =====\n",
      "Epoch 0:  loss=22.013757705688477\n",
      "Epoch 1:  loss=21.905046463012695\n",
      "Epoch 2:  loss=21.78440284729004\n",
      "Epoch 3:  loss=21.647014617919922\n",
      "Epoch 4:  loss=21.48792839050293\n",
      "Epoch 5:  loss=21.303478240966797\n",
      "Epoch 6:  loss=21.08243179321289\n",
      "Epoch 7:  loss=20.8350887298584\n",
      "Epoch 8:  loss=20.543737411499023\n",
      "Epoch 9:  loss=20.33692741394043\n",
      "Epoch 10:  loss=20.09905433654785\n",
      "Epoch 11:  loss=19.927234649658203\n",
      "Epoch 12:  loss=19.749502182006836\n",
      "Epoch 13:  loss=19.660423278808594\n",
      "Epoch 14:  loss=19.583248138427734\n",
      "Epoch 15:  loss=19.563278198242188\n",
      "Epoch 16:  loss=19.52655029296875\n",
      "Epoch 17:  loss=19.523616790771484\n",
      "Epoch 18:  loss=19.48839569091797\n",
      "Epoch 19:  loss=19.493303298950195\n",
      "Epoch 20:  loss=19.469438552856445\n",
      "Epoch 21:  loss=19.472843170166016\n",
      "Epoch 22:  loss=19.438831329345703\n",
      "Epoch 23:  loss=19.43595314025879\n",
      "Epoch 24:  loss=19.442792892456055\n",
      "Epoch 25:  loss=19.416461944580078\n",
      "Epoch 26:  loss=19.416065216064453\n",
      "Epoch 27:  loss=19.42388343811035\n",
      "Epoch 28:  loss=19.400354385375977\n",
      "Epoch 29:  loss=19.40540885925293\n",
      "Epoch 30:  loss=19.39287567138672\n",
      "Epoch 31:  loss=19.404157638549805\n",
      "Epoch 32:  loss=19.38260269165039\n",
      "Epoch 33:  loss=19.38979721069336\n",
      "Epoch 34:  loss=19.374271392822266\n",
      "Epoch 35:  loss=19.377588272094727\n",
      "Epoch 36:  loss=19.37980079650879\n",
      "Epoch 37:  loss=19.36992645263672\n",
      "Epoch 38:  loss=19.382402420043945\n",
      "Epoch 39:  loss=19.373706817626953\n",
      "Epoch 40:  loss=19.36064338684082\n",
      "Epoch 41:  loss=19.370582580566406\n",
      "Epoch 42:  loss=19.354694366455078\n",
      "Epoch 43:  loss=19.362871170043945\n",
      "Epoch 44:  loss=19.3491268157959\n",
      "Epoch 45:  loss=19.349275588989258\n",
      "Epoch 46:  loss=19.36125373840332\n",
      "Epoch 47:  loss=19.35488510131836\n",
      "Epoch 48:  loss=19.345439910888672\n",
      "Epoch 49:  loss=19.35390281677246\n",
      "[[[ 0.  0.  0.]\n",
      "  [ 0. -2.  0.]]\n",
      "\n",
      " [[ 0.  0. -2.]\n",
      "  [ 0. -1.  0.]]\n",
      "\n",
      " [[ 0.  0.  0.]\n",
      "  [ 0.  0.  0.]]\n",
      "\n",
      " [[ 0.  0.  0.]\n",
      "  [ 0.  0. -3.]]]\n",
      "[[[ 0.24658726 -0.03951892 -0.2870798 ]\n",
      "  [-0.03951892 -0.28707972 -0.40288696]]\n",
      "\n",
      " [[-0.03951892 -0.28707972 -0.40288696]\n",
      "  [-0.28707972 -0.4028869  -0.19080453]]\n",
      "\n",
      " [[-0.2870798  -0.40288696 -0.19080448]\n",
      "  [-0.40288696 -0.19080451 -0.09062378]]\n",
      "\n",
      " [[-0.40288696 -0.19080445 -0.09062372]\n",
      "  [-0.19080445 -0.09062375 -2.7721086 ]]]\n"
     ]
    }
   ],
   "source": [
    " \n",
    "#polynomials:\n",
    "polym1 = gen_polynomial2(2,4,6,12)\n",
    "polym2 = gen_polynomial2(3,1,2,5)\n",
    "\n",
    "print(polym2)\n",
    "def SGD(polynomial,Nx,Ny,Nz,t):\n",
    "\n",
    "    # %% Run the SG loop\n",
    "    num_epochs = 50\n",
    "    learning_rate = 0.05\n",
    "    train_set_size = 10000\n",
    "    train_ds  = jnp.asarray(generate_noisy_set2(train_set_size ,polynomial))\n",
    "    \n",
    "    param_w = jnp.zeros((Nx+1,Ny+1,Nz+1)) #gen_polynomial2(Nx,Ny,Nz,t).astype(float)  # Initial guess for the parameter\n",
    "\n",
    "    # %% Define a simple loss function and its gradient\n",
    "    def loss(param_w, data):\n",
    "        # return  jnp.sum((data[:,1] - f(data[:,0], param_w))**2)\n",
    "        res = f2(data[0],data[1],data[2], param_w)\n",
    "      \n",
    "        return jnp.log(jnp.sum((data[3] - res) ** 2)) \n",
    "\n",
    "    # Using JAX automatic differentiation - autograd\n",
    "    grad_loss = jax.grad(loss)\n",
    "\n",
    "    num_points_per_batch = train_set_size // 5\n",
    "    print(\"\\n===== Running Stochastic Gradient Descent =====\")\n",
    "    for epoch in range(num_epochs):\n",
    "        # Get points for the current batch\n",
    "        for i in range(0, train_set_size, num_points_per_batch):\n",
    "            batch = train_ds[:,i:i + num_points_per_batch]\n",
    "            grad = grad_loss(param_w, batch)\n",
    "            param_w = param_w - learning_rate * grad\n",
    "\n",
    "        print(f\"Epoch {epoch}:  loss={loss(param_w, train_ds)}\")\n",
    "    print(polynomial)\n",
    "    print(param_w)\n",
    "SGD(polym2,3,1,2,5)\n"
   ]
  },
  {
   "cell_type": "markdown",
   "metadata": {},
   "source": [
    "it manages to get approximate some cells, but because every variable combination is possible, does this show a very slow convergence"
   ]
  },
  {
   "cell_type": "markdown",
   "metadata": {
    "id": "AddszXzummpk"
   },
   "source": [
    "# Exercise 5\n",
    "\n",
    "## a)"
   ]
  },
  {
   "cell_type": "markdown",
   "metadata": {
    "id": "21Vsr1zn4CF7"
   },
   "source": [
    "There are different options for tracking memory allocation in JAX. Firstly there is the built-in JAX.profiler, which includes the method device-memory-profile. This captures a JAX device memory profile as pprof-format protocol buffer, which you can read with the pprof-tool. As far as i understand this that only works with go. I also looked at jax-smi, which is supposed to be a \"a tool for real-time inspection of the memory usage of a JAX process\". This also returns a pprof file. Reading this file takes me some time and im trying different solutions on windows.\n",
    "![grafik.png](data:image/png;base64,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)\n",
    "\n",
    "Running this on a Linux VM. In comparison, if i take the whole matrix and not just the specific entries (estimator = -(mat_u @ mat_v)), i get a different output. So it looks like JAX doesnt load the entier matrix but only the [row, column] part, so there is no memory problem concerning this. But still, the output using jax-smi -although smaller- looks quite large, so im not sure if that is already enough."
   ]
  },
  {
   "cell_type": "code",
   "execution_count": 23,
   "metadata": {
    "colab": {
     "base_uri": "https://localhost:8080/"
    },
    "id": "LE8Hy2P8mq1l",
    "outputId": "84f78e94-2918-4396-e3d1-75094e12e339"
   },
   "outputs": [
    {
     "name": "stdout",
     "output_type": "stream",
     "text": [
      "Requirement already satisfied: jax-smi in /usr/local/lib/python3.10/dist-packages (1.0.4)\n",
      "Requirement already satisfied: jax>=0.2.16 in /usr/local/lib/python3.10/dist-packages (from jax-smi) (0.4.33)\n",
      "Requirement already satisfied: fire in /usr/local/lib/python3.10/dist-packages (from jax-smi) (0.7.0)\n",
      "Requirement already satisfied: jaxlib<=0.4.33,>=0.4.33 in /usr/local/lib/python3.10/dist-packages (from jax>=0.2.16->jax-smi) (0.4.33)\n",
      "Requirement already satisfied: ml-dtypes>=0.2.0 in /usr/local/lib/python3.10/dist-packages (from jax>=0.2.16->jax-smi) (0.4.1)\n",
      "Requirement already satisfied: numpy>=1.24 in /usr/local/lib/python3.10/dist-packages (from jax>=0.2.16->jax-smi) (1.26.4)\n",
      "Requirement already satisfied: opt-einsum in /usr/local/lib/python3.10/dist-packages (from jax>=0.2.16->jax-smi) (3.4.0)\n",
      "Requirement already satisfied: scipy>=1.10 in /usr/local/lib/python3.10/dist-packages (from jax>=0.2.16->jax-smi) (1.13.1)\n",
      "Requirement already satisfied: termcolor in /usr/local/lib/python3.10/dist-packages (from fire->jax-smi) (2.5.0)\n"
     ]
    }
   ],
   "source": [
    "pip install jax-smi"
   ]
  },
  {
   "cell_type": "code",
   "execution_count": 37,
   "metadata": {
    "id": "4MfwSmuxm901"
   },
   "outputs": [],
   "source": [
    "import dataclasses\n",
    "import jax\n",
    "import jax.numpy as jnp\n",
    "import tensorflow_datasets as tfds\n",
    "from jax_smi import initialise_tracking\n",
    "import pandas as pd\n",
    "import pstats\n",
    "import jax.profiler\n",
    "from datetime import datetime\n",
    "import tensorboard\n"
   ]
  },
  {
   "cell_type": "code",
   "execution_count": 41,
   "metadata": {
    "id": "UX70swt_rZxR"
   },
   "outputs": [],
   "source": [
    "# Create a test matrix u and v to test memory allocation using jax-smi\n",
    "key = jax.random.PRNGKey(0)\n",
    "size = 1000\n",
    "num_choices = 50\n",
    "mat_u = jax.random.normal(jax.random.PRNGKey(0), (1000, 1000))  # as initialized in init_latent_factors\n",
    "mat_v = jax.random.normal(jax.random.PRNGKey(1), (1000, 1000))\n",
    "rows = jax.random.choice(key, jnp.arange(size), (num_choices,), replace=False)\n",
    "columns = jax.random.choice(key, jnp.arange(size), (num_choices,), replace=False)"
   ]
  },
  {
   "cell_type": "code",
   "execution_count": 42,
   "metadata": {
    "colab": {
     "base_uri": "https://localhost:8080/"
    },
    "id": "LoTA9nYYo3Ir",
    "outputId": "87607483-cddd-44e5-ca7c-63714d2fa90c"
   },
   "outputs": [
    {
     "data": {
      "text/plain": [
       "Array([  2.2403035,   5.137396 , -18.212055 ,  29.806274 ,  -5.4359016,\n",
       "        23.092825 ,   7.4908133, -33.361286 ,  10.951368 ,  -9.150698 ,\n",
       "       -14.942288 , -26.868412 , -39.69823  ,  39.272816 ,   1.6286244,\n",
       "        -5.6750965,  -7.0394726, -16.87818  ,  40.452354 ,  21.958443 ,\n",
       "         3.4872444, -39.629883 , -11.130831 , -70.76534  ,  -8.12375  ,\n",
       "         9.263904 ,   4.5230556,  33.51147  ,  15.698744 , -12.131374 ,\n",
       "        23.615482 , -38.220226 , -12.183689 , -46.414795 , -56.122215 ,\n",
       "         3.612556 ,  -8.421157 ,  -1.4403391, -22.431568 , -25.093353 ,\n",
       "        40.38521  ,  13.682131 ,  13.957107 ,  13.326932 ,  79.68028  ,\n",
       "       -26.777143 , -15.372421 ,  21.608826 ,  19.776518 ,   2.97534  ],      dtype=float32)"
      ]
     },
     "execution_count": 42,
     "metadata": {},
     "output_type": "execute_result"
    }
   ],
   "source": [
    "@jax.jit  # Comment out for single-step debugging\n",
    "def mse_loss_one_batch_test(mat_u, mat_v, rows, columns):\n",
    "    # Original code in question\n",
    "    jax_smi.initialise_tracking()\n",
    "    estimator = -(mat_u @ mat_v)[(rows, columns)]\n",
    "\n",
    "    return estimator\n",
    "\n",
    "mse_loss_one_batch_test(mat_u, mat_v, rows, columns)\n"
   ]
  },
  {
   "cell_type": "markdown",
   "metadata": {},
   "source": [
    "## b)\n",
    "\n",
    "1. Process in Small Batches: Instead of calculating the entire matrix product mat_u @ mat_v, we will compute only the values needed for each batch of ratings.\n",
    "2. Iterate over Batches: Given rows, columns, and ratings (which define the indices and values for a batch of observed interactions), split them into smaller chunks, each of size BB.\n",
    "3. Batch-Wise Dot Product: For each batch, compute only the submatrices of mat_u and mat_v necessary to calculate the predicted values for that batch.\n",
    "4. Accumulate Loss: Calculate the squared error for each batch and accumulate it to compute the final mean squared error.\n",
    "\n",
    "for batch in batches:\n",
    "* user_embeddings = mat_u[batch_rows]\n",
    "* item_embeddings = mat_v[batch_rows]\n",
    "* batch_predictions = (user_embeddings * item_embeddings).sum(axis=1)\n",
    "* calculate squared error for the batch\n",
    "  * total_squared_error += squared_error_batch\n",
    "\n",
    "* mse = total_squared_error / num_elements\n",
    "\n",
    "Example Execution with B=4B=4\n",
    "\n",
    "Suppose we have:\n",
    "\n",
    "    rows = [0, 1, 2, 3, 0, 1]\n",
    "    columns = [1, 0, 3, 2, 3, 2]\n",
    "    ratings = [5, 3, 4, 2, 1, 4]\n",
    "    batch_size = 4\n",
    "    mat_u and mat_v (both 4x3 matrices for simplicity):\n",
    "\n",
    "mat_u=[0.20.40.60.10.30.50.70.80.90.30.50.7]\n",
    "mat_u=\n",
    "​0.20.10.70.3​0.40.30.80.5​0.60.50.90.7​\n",
    "​\n",
    "mat_v=[0.60.70.80.20.40.60.30.50.90.10.20.4]\n",
    "mat_v=\n",
    "​0.60.20.30.1​0.70.40.50.2​0.80.60.90.4​\n",
    "​\n",
    "\n",
    "Batch 1:\n",
    "\n",
    "    batch_rows = [0, 1, 2, 3]\n",
    "    batch_columns = [1, 0, 3, 2]\n",
    "    batch_ratings = [5, 3, 4, 2]\n",
    "\n",
    "    Extract User Embeddings:\n",
    "    user_embeddings=[0.20.40.60.10.30.50.70.80.90.30.50.7]\n",
    "    user_embeddings=\n",
    "\n",
    "​0.20.10.70.3​0.40.30.80.5​0.60.50.90.7​\n",
    "​\n",
    "\n",
    "Extract Item Embeddings:\n",
    "item_embeddings=[0.20.40.60.60.70.80.10.20.40.30.50.9]\n",
    "item_embeddings=\n",
    "​0.20.60.10.3​0.40.70.20.5​0.60.80.40.9​\n",
    "\n",
    "    ​\n",
    "\n",
    "    Predictions:\n",
    "        Element-wise multiply and sum:\n",
    "        batch_predictions=[0.56,0.86,1.24,1.16]\n",
    "        batch_predictions=[0.56,0.86,1.24,1.16]\n",
    "\n",
    "    Squared Error:\n",
    "    squared_error_batch=(0.56−5)2+(0.86−3)2+(1.24−4)2+(1.16−2)2=19.6996+4.5364+7.6176+0.7056=32.5592\n",
    "    squared_error_batch=(0.56−5)2+(0.86−3)2+(1.24−4)2+(1.16−2)2=19.6996+4.5364+7.6176+0.7056=32.5592\n",
    "\n",
    "Batch 2:\n",
    "...\n",
    "continue for all batches"
   ]
  },
  {
   "cell_type": "markdown",
   "metadata": {
    "id": "7wdJ6mrJmaSk"
   },
   "source": [
    "## Exercise 6\n"
   ]
  },
  {
   "cell_type": "markdown",
   "metadata": {
    "id": "hjXUQsMymaSl"
   },
   "source": [
    "# a)\n",
    "The rating of a professor should be divided into multiple categories ( makes a good lecture, is a good supervisor etc.), as tchey an differ a lot. This means, each time a user rates a lecture,seminar, thesis supervision, the rating should only affect the categories it fits best. ( having had a bad thesis supervision is not important for the quality of the lecture the professor will organize)"
   ]
  },
  {
   "cell_type": "markdown",
   "metadata": {
    "id": "bRoDGymImaSl"
   },
   "source": [
    "# b)\n",
    "\n",
    "if the artworks are items, then there should be tags describing the essence of each artwork like {scary,nature,goofy}. These can be used to find out which genres the user prefers and are usable in content recommender systems.\n",
    "\n",
    "A better focus than the artwork may be the artists themselves, If a user likes an artwork he will prefer other art made in the same style, thus being from the same artist, compared to different artwork which may have the same topics, but differ in style. Thus the algorithm should rather try to match user and artist compared to user and picture.\n"
   ]
  },
  {
   "cell_type": "markdown",
   "metadata": {
    "id": "mzbis5_lmaSl"
   },
   "source": [
    "# c)\n",
    "There is no user-item pairing, it is a user-user pairing. This changes the problem dramatically, as both users have to rate each other, thus a bidirectional pairing has to be done.\n",
    "\n",
    " Features could be superficial ( haircolor/weight etc.), personal information(age, religion, etc.) and tastes/dislikes (music genres, food etc.).   \n",
    "\n",
    "\n",
    "Another difficulty is in the aggregation of non-superficial data, as it is hard to put into categories, but may be even the most important data of all."
   ]
  },
  {
   "cell_type": "markdown",
   "metadata": {
    "id": "3GsZ8UZTmaSl"
   },
   "source": [
    "# Exercise 7"
   ]
  },
  {
   "cell_type": "markdown",
   "metadata": {
    "id": "nT4BCF4ImaSl"
   },
   "source": [
    "## a)\n",
    "\n",
    "**G (global effects)** will probably return a newly published and well rated movie - that is quite popular - as a recommendation. The R system (regional effects) would be more aligned with the users preferences in terms of genre, director, actors etc. These are more likely to align with the taste of the specific user.\n",
    "\n",
    "The **L system (local effects)** would be the most personalized, as it would take into account the users previous ratings and preferences and compare them with other users. Depending on the size of the user cluster these can include more niche movies.\n",
    "\n",
    "**The System R** probably produces the most niche and exotic items, as it can infer personalized, latent factors in user preferences. System L cann offer some niche recommendations and System G mostly sticks to widely popular items."
   ]
  },
  {
   "cell_type": "markdown",
   "metadata": {
    "id": "zKdstYcQmaSm"
   },
   "source": [
    "## b)\n",
    "\n",
    "Depending on the size of the Dataset, System G would probably be the most vulnerable to this attack. Thats because it bases recommendations on global ratings and trends. So if a lot of user rate a movie with 5 stars, it will be recommended to a lot of other users, regardless of their preferences. In contrast, System L is the most robust against this manipulation. The fake accounts would mainly affect the reommendations of the fake accounts within the fake cluster, so their impact on the overall system is limited."
   ]
  },
  {
   "cell_type": "markdown",
   "metadata": {
    "id": "x0Rp-BoHmaSm"
   },
   "source": [
    "## c)\n",
    "Both System G and System L fail for grey sheep, as they are based on global trends or user clusters. The grey sheep are users that do not fit into any cluster and have preferences that are not aligned with the global trends. System R is the only one that can recommend items to grey sheep, as it is based on the users preferences and not on global trends or user clusters and might align from time to time. Black sheep are very hard to capture and neither of the systems can reliable recommend items to them.    \n"
   ]
  }
 ],
 "metadata": {
  "colab": {
   "provenance": []
  },
  "kernelspec": {
   "display_name": "MMD",
   "language": "python",
   "name": "python3"
  },
  "language_info": {
   "codemirror_mode": {
    "name": "ipython",
    "version": 3
   },
   "file_extension": ".py",
   "mimetype": "text/x-python",
   "name": "python",
   "nbconvert_exporter": "python",
   "pygments_lexer": "ipython3",
   "version": "3.10.8"
  }
 },
 "nbformat": 4,
 "nbformat_minor": 0
}
