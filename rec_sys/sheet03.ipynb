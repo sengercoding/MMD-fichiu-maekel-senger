{
  "cells": [
    {
      "cell_type": "markdown",
      "metadata": {
        "id": "f_4PlFo8maSj"
      },
      "source": [
        "# MMD 2024, Problem Sheet 3: ???\n",
        "\n",
        "Group: Daniela Fichiu, Aaron Maekel, Manuel Senger"
      ]
    },
    {
      "cell_type": "markdown",
      "metadata": {
        "id": "EGak5yjV_WzX"
      },
      "source": [
        "## Exercise 1\n",
        "\n",
        "(a) Compute the gradient of $Q(w) =\\sum_{i = 1}^{n}(w_1 + w_2x_i - y_i)^{2}$.\n",
        "\n",
        "**Inputs**\n",
        "- equation: norm2(X*w-y)^2, i.e, $\\Vert Xw - y \\Vert_{2}^{2}$,\n",
        "- types of input symbols: \n",
        "    - $X$ - matrix\n",
        "    - $w$ - vector\n",
        "    - $y$ - vector \n",
        "- variable(s) \"w.r.t.\": w\n",
        "\n",
        "**Output**\n",
        "- gradient: $\\frac{\\partial f}{\\partial w} = 2\\cdot X^\\top \\cdot (X\\cdot w-y)$\n",
        "\n",
        "(b) Compute gradients for given $x, i$.\n",
        "\n",
        "Let $x \\geq 1$ be fixed and represent the $x$-th item and let $i \\geq 1$ be fixed and represent the $i$-th user. Then $q_x$ and $p_i$ represent the feature vectors associated with the $x$-th item and the $i$-th user, respectively. For simplicity, we will use $q$ and $p$ to refer to the aforementioned vectors. \n",
        "\n",
        "**Inputs for** $\\nabla_i P$\n",
        "- function $f$: (r - p' * q)^2 + a * norm2(p)^2 + b * norm2(q)^2, i.e, $(r-p^\\top \\cdot q)^{2}+a\\cdot \\|p\\|_2^{2}+b\\cdot \\|q\\|_2^{2}$,\n",
        "- types of input symbols: \n",
        "    - $a$ - scalar (corresponds to $\\lambda_1$ in the slides)\n",
        "    - $b$ - scalar (corresponds to $\\lambda_2$ in the slides)\n",
        "    - $p$ - vector\n",
        "    - $q$ - vector\n",
        "    - $r$ - scalar\n",
        "- variable(s) \"w.r.t.\": p\n",
        "\n",
        "**Output for** $\\nabla_i P$\n",
        "- partial w.r.t. $p$: $\\frac{\\partial f}{\\partial p} = 2\\cdot a\\cdot p-2\\cdot (r-p^\\top \\cdot q)\\cdot q$\n",
        "\n",
        "**Inputs for** $\\nabla_x Q$\n",
        "- function $f$: (r - p' * q)^2 + a * norm2(p)^2 + b * norm2(q)^2, i.e, $(r-p^\\top \\cdot q)^{2}+a\\cdot \\|p\\|_2^{2}+b\\cdot \\|q\\|_2^{2}$,\n",
        "- types of input symbols: \n",
        "    - $a$ - scalar (corresponds to $\\lambda_1$ in the slides)\n",
        "    - $b$ - scalar (corresponds to $\\lambda_2$ in the slides)\n",
        "    - $p$ - vector\n",
        "    - $q$ - vector\n",
        "    - $r$ - scalar\n",
        "- variable(s) \"w.r.t.\": q\n",
        "\n",
        "**Output for** $\\nabla_x Q$\n",
        "- partial w.r.t $q$: $ \\frac{\\partial f}{\\partial q} = 2\\cdot b\\cdot q-2\\cdot (r-q^\\top \\cdot p)\\cdot p$\n",
        "\n",
        "The results obtained are the same (there's a missing $2$ before the $\\lambda$'s on the slides). $\\varepsilon$ represents $(r-q^\\top \\cdot p)$, while the signs on the slides are changed since we are looking at the update equation of gradient descent, i.e, we subtract the partials (calculated at the current value) from the current value."
      ]
    },
    {
      "cell_type": "markdown",
      "metadata": {
        "id": "UDfTe1Fz_WzX"
      },
      "source": [
        "## Exercise 2"
      ]
    },
    {
      "cell_type": "markdown",
      "metadata": {
        "id": "T0MW7woAmaSk"
      },
      "source": [
        "## Exercise 3\n",
        "\n",
        "The following table shows a utility matrix with ratings on a 1-5 star scale of eight items, a through h, by four users, A, B, C and D.\n",
        "\n",
        "|   | a | b | c | d | e | f | g | h |\n",
        "|---|---|---|---|---|---|---|---|---|\n",
        "| A | 4 | 5 |   | 5 | 1 |   | 3 | 2 |\n",
        "| B |   | 3 | 4 | 3 | 1 | 2 | 1 |   |\n",
        "| C | 2 |   | 1 | 3 |   | 4 | 5 | 3 |\n",
        "| D | 1 |   | 1 |   | 4 |   | 4 | 2 |\n",
        "\n",
        "\n",
        "a) **Task:**Compute rCe using the User-User Collaborative Filtering method. Let N (e; C) be the\n",
        "set of users most similar to C, who have already rated item e. Use |N (e; C)| = 2\n",
        "in your solution, i.e. consider only top-2 most similar users.\n",
        "\n",
        "**Solution:**\n",
        "First we calculate the user mean ratings and subtract them from their other ratings to gather user vectors:\n",
        "\n",
        "\n",
        "\n",
        "m_A = 3.33\n",
        "\n",
        "m_B = 2.33\n",
        "\n",
        "m_C = 3.00\n",
        "\n",
        "m_D = 2.40\n",
        "\n",
        "-------------------\n",
        "\n",
        "U_A = [  0.67  1.67  0.00  1.67 -2.33  0.00 -0.33 -1.33 ]\n",
        "\n",
        "U_B = [  0.00  0.67  1.67 0.67 -1.33 -0.33 -1.33  0.00 ]\n",
        "\n",
        "U_C = [ -1.00  0.00 -2.00  0.00  0.00  1.00  2.00  0.00 ]\n",
        "\n",
        "U_D = [ -1.40  0.00 -1.40  0.00  1.60  0.00  1.60 -0.40 ]\n",
        "\n",
        "--------------------------------------------\n",
        "Norms:\n",
        "- $\\Vert A \\Vert_2 \\approx 3.6$\n",
        "- $\\Vert B \\Vert_2 \\approx 2.7$\n",
        "- $\\Vert C \\Vert_2 \\approx 3.1$\n",
        "- $\\Vert D \\Vert_2 \\approx 3.0$\n",
        "\n",
        "Dot products:\n",
        "\n",
        "- $ A \\cdot C \\approx -1.29$\n",
        "- $ B \\cdot C \\approx -6.3$\n",
        "- $ D \\cdot C \\approx 7.4$\n",
        "\n",
        "Cosine similarities:\n",
        "- $\\cos_\\text{sim}(A, C) = A \\cdot C / \\Vert A \\Vert_2 \\Vert C \\Vert_2 = -1.29 / (3.6 \\cdot 3.1) \\approx -0.1$\n",
        "- $\\cos_\\text{sim}(B, C) = B \\cdot C / \\Vert B \\Vert_2 \\Vert C \\Vert_2 = -6.3 / (2.7 \\cdot 3.1) \\approx -0.7$\n",
        "- $\\cos_\\text{sim}(D, C) = D \\cdot C / \\Vert D \\Vert_2 \\Vert C \\Vert_2 = 7.4 / (3.0 \\cdot 3.1) \\approx 0.8$\n",
        "\n",
        "----------------------------------------------\n",
        "therefore our two most similiars user are A and D.\n",
        "Therefore we get\n",
        "r_Ce = (0.8* 4 -0.1*1)/(0.8-0.1) = 4.4\n",
        "\n",
        "b) **Task:** Repeat Part a) but use the Item-Item Collaborative Filtering method. Let N (e; C)\n",
        "be the set of similar items rated by user C, and use |N (e; C)| = 2 in your solution.\n",
        "Compare this result to the one obtained in Part a) and state your conclusions\n",
        "\n",
        "**Solution:**\n",
        "m_a = 2.33\n",
        "\n",
        "m_b = 4\n",
        "\n",
        "m_c = 2\n",
        "\n",
        "m_d = 3.67\n",
        "\n",
        "m_e = 2\n",
        "\n",
        "m_f = 3\n",
        "\n",
        "m_g = 3.25\n",
        "\n",
        "m_h = 2.67\n",
        "\n",
        "I_a = [  1.67  0.00 -0.33 -1.33]\n",
        "I_b = [  1.00 -1.00  0.00  0.00]\n",
        "I_c = [  0.00  2.00 -1.00 -1.00]\n",
        "\n",
        "I_d = [  1.33 -0.67 -0.67  0.00]\n",
        "I_e = [ -1.00 -1.00  0.00  2.00]\n",
        "I_f = [  0.00 -1.00  1.00  0.00]\n",
        "I_g = [ -0.25 -2.25  1.75  0.75]\n",
        "I_h = [ -0.67  0.00  0.33  1.33]\n",
        "\n",
        "---------------------------------\n",
        "Norms:\n",
        "- $\\Vert a \\Vert_2 \\approx 2.1$\n",
        "- $\\Vert b \\Vert_2 \\approx 1.4$\n",
        "- $\\Vert c \\Vert_2 \\approx 2.4$\n",
        "- $\\Vert d \\Vert_2 \\approx 1.6$\n",
        "- $\\Vert e \\Vert_2 \\approx 2.4$\n",
        "- $\\Vert f \\Vert_2 \\approx 1.4$\n",
        "- $\\Vert g \\Vert_2 \\approx 3.0$\n",
        "- $\\Vert h \\Vert_2 \\approx 1.5$\n",
        "\n",
        "Dot products:\n",
        "\n",
        "- $ a \\cdot e \\approx -4.3$\n",
        "- $ b \\cdot e \\approx 0.0$\n",
        "- $ c \\cdot e \\approx 0.0$\n",
        "- $ d \\cdot e \\approx -0.7$\n",
        "- $ f \\cdot e \\approx 1$\n",
        "- $ g \\cdot e \\approx 4.0$\n",
        "- $ h \\cdot e \\approx 3.3$\n",
        "\n",
        "\n",
        "Cosine similarities:\n",
        "We only need the two most similiar, so we only look at pairs with a positive dot product:\n",
        "\n",
        "- $\\cos_\\text{sim}(f, e) = f \\cdot e / \\Vert f \\Vert_2 \\Vert e \\Vert_2 = 1 / (1.4 \\cdot 2.4) \\approx 0.3$\n",
        "\n",
        "- $\\cos_\\text{sim}(g, e) = g \\cdot e / \\Vert g \\Vert_2 \\Vert e \\Vert_2 = 4 / (3 \\cdot 2.4) \\approx 0.6$\n",
        "\n",
        "- $\\cos_\\text{sim}(h, e) = h \\cdot e / \\Vert h \\Vert_2 \\Vert e \\Vert_2 = 3.3 / (1.5 \\cdot 2.4) \\approx 0.9$\n",
        "------------------\n",
        "therefore the two most similiar Items are h and g.\n",
        "\n",
        "\n",
        "r_Ce = (0.9 * 3 + 0.6 * 4)/(0.9+0.6) =3.4\n",
        "\n",
        "This solution is to be prefered, as the item-item comparison done has higher similiaritiies than the user-user case ( the second closest user had a negative similiarity with user C)."
      ]
    },
    {
      "cell_type": "markdown",
      "metadata": {
        "id": "C8298wow_WzZ"
      },
      "source": [
        "#  Exercise 4\n"
      ]
    },
    {
      "cell_type": "markdown",
      "metadata": {
        "id": "Ruj4fqiN_WzZ"
      },
      "source": [
        "# a+b)"
      ]
    },
    {
      "cell_type": "code",
      "execution_count": null,
      "metadata": {
        "id": "aNNzKQso_WzZ",
        "outputId": "5ffdd520-39e7-4e50-fcb8-b4fa364372b5"
      },
      "outputs": [
        {
          "data": {
            "image/png": "[encoded data removed]",
            "text/plain": [
              "<Figure size 1000x600 with 1 Axes>"
            ]
          },
          "metadata": {},
          "output_type": "display_data"
        }
      ],
      "source": [
        "import numpy as np\n",
        "np.set_printoptions(precision=4)\n",
        "\n",
        "MAT_R = np.array([[1, 0 ,3,0,0,5,0,0,5,0,4,0],[0,0,5,4,0,0,4,0,0,2,1,3],[2,4,0,1,2,0,3,0,4,3,5,0],[0,2,4,0,5,0,0,4,0,0,2,0],[0,0,4,3,4,2,0,0,0,0,2,5],[1,0,3,0,3,0,0,2,0,0,4,0]])\n",
        "K=3\n",
        "n_epochs = 10000\n",
        "alpha=0.0002\n",
        "rng = np.random.default_rng()\n",
        "Q=rng.uniform(-1,1,size=(MAT_R.shape[0],K))\n",
        "P=rng.uniform(-1,1,size=(MAT_R.shape[1],K))\n",
        "\n",
        "#print(np.inner(Q,P))\n",
        "E = []\n",
        "for n in range(n_epochs):\n",
        "    R_est = np.dot(Q,P.T)\n",
        "    Error_all = (MAT_R-R_est)\n",
        "    Error_all[MAT_R==0]=0\n",
        "    E.append(np.mean(np.abs(Error_all)))\n",
        "    for j in range(MAT_R.shape[0]):\n",
        "        for i in range(MAT_R.shape[1]):\n",
        "            Q[j,:] +=  2 * alpha * Error_all[j,i] * P[i,:]\n",
        "            P[i,:] +=  2 * alpha * Error_all[j,i] * Q[j,:]\n",
        "E_disp = R_est - MAT_R\n",
        "E_disp[MAT_R==0]=np.nan\n",
        "\n",
        "import matplotlib.pyplot as plt\n",
        "\n",
        "# Plotting the line plot\n",
        "plt.figure(figsize=(10, 6))\n",
        "plt.plot(E, label=\"Error\", color=\"blue\", linewidth=2)\n",
        "plt.plot( np.abs(np.array(E)[1:]-np.array(E)[:-1]), label=\"Delta error\", color=\"red\", linewidth=2)\n",
        "\n",
        "# Adding labels and title\n",
        "plt.title(\"Estimation error of nonzero entries of the Utility Matrix over time\")\n",
        "plt.xlabel(\"x\")\n",
        "plt.ylabel(\"y\")\n",
        "plt.legend()\n",
        "plt.yscale(\"log\")\n",
        "plt.grid(True)\n",
        "\n",
        "# Display the plot\n",
        "plt.show()\n",
        "\n"
      ]
    },
    {
      "cell_type": "markdown",
      "metadata": {
        "id": "KFDT9zMF_WzZ"
      },
      "source": [
        " P, Q and  the estimated  R"
      ]
    },
    {
      "cell_type": "code",
      "execution_count": null,
      "metadata": {
        "id": "V8Mp80SG_Wza",
        "outputId": "d3a85d12-e276-479c-f161-5f3cd0dd439f"
      },
      "outputs": [
        {
          "name": "stdout",
          "output_type": "stream",
          "text": [
            "Q:\n",
            "[[-2.02  1.49  0.85]\n",
            " [ 0.08  1.59  1.86]\n",
            " [-1.85  0.72  1.68]\n",
            " [ 0.86 -1.    2.41]\n",
            " [ 0.42 -0.32  2.11]\n",
            " [-0.67 -0.68  1.73]]\n",
            "\n",
            "P:\n",
            "[[-0.75 -0.6  -0.06  1.03  0.41 -1.44 -0.11  0.7  -1.24 -0.93 -1.94  0.91]\n",
            " [-0.33  0.79  0.79  0.88 -0.35  0.64  1.18 -0.04  1.46  0.86 -0.71 -0.6 ]\n",
            " [ 0.28  1.37  2.02  1.35  1.77  1.33  1.15  1.4   0.38  0.38  1.23  2.09]]\n",
            "\n",
            "R_est:\n",
            "[[ 1.27  3.56  3.01  0.38  0.17  5.    2.96 -0.28  5.    3.49  3.9  -0.94]\n",
            " [-0.05  3.75  4.99  4.    2.78  3.38  4.    2.6   2.94  2.    1.    3.  ]\n",
            " [ 1.63  4.    4.07  1.    1.98  5.38  2.99  1.03  3.99  3.    5.14  1.41]\n",
            " [ 0.37  2.    4.02  3.25  4.97  1.33  1.49  4.01 -1.6  -0.74  2.    6.42]\n",
            " [ 0.39  2.39  3.98  3.    4.03  2.    2.01  3.26 -0.18  0.14  2.    4.99]\n",
            " [ 1.22  2.25  3.    1.04  3.04  2.84  1.27  1.98  0.5   0.71  3.91  3.43]]\n"
          ]
        }
      ],
      "source": [
        "np.set_printoptions(precision=2)\n",
        "print(\"Q:\",Q,sep=\"\\n\",end=\"\\n\\n\")\n",
        "print(\"P:\",P.T,sep=\"\\n\",end=\"\\n\\n\")\n",
        "print(\"R_est:\",np.dot(Q,P.T),sep=\"\\n\")"
      ]
    },
    {
      "cell_type": "markdown",
      "metadata": {
        "id": "pU0aIWtr_Wza"
      },
      "source": [
        "# c)\n",
        "\n",
        "you could add an adaptive learning rate."
      ]
    },
    {
      "cell_type": "markdown",
      "metadata": {
        "id": "GnshWyUT_hDg"
      },
      "source": [
        "# Exercies 5\n",
        "\n",
        "a)\n",
        "\n",
        "**JOIN**\n",
        "\n",
        "The function join() in Spark takes two RDDs and an Attribute as input and returns a new RDD. The function performs an inner join on the two RDDs based on the given attribute. The join operation is performed by comparing the values of the attribute in the two RDDs. If the values of the attribute in the two RDDs are equal, the corresponding records are joined.\n",
        "\n",
        "**SORTBY**\n",
        "\n",
        "The sortby() function takes an RDD and an attribute as input and returns a new RDD. The function sorts the records in the RDD based on the given attribute in ascending order. The sort operation is performed by comparing the values of the attribute in the records.\n",
        "\n",
        "**GROUPBY**\n",
        "\n",
        "The groupby() function takes an RDD and an attribute as input and returns a new RDD. In this RDD the records are grouped based on the values of the attribute. The group operation is performed by comparing the values of the attribute in the records"
      ]
    },
    {
      "cell_type": "markdown",
      "metadata": {
        "id": "x5et45N0_s_D"
      },
      "source": [
        "### b)"
      ]
    },
    {
      "cell_type": "code",
      "execution_count": 1,
      "metadata": {
        "colab": {
          "base_uri": "https://localhost:8080/"
        },
        "id": "V8HllqeL_gqz",
        "outputId": "a400ea07-51f0-4aac-c38f-8dee1ad67074"
      },
      "outputs": [
        {
          "name": "stdout",
          "output_type": "stream",
          "text": [
            "Transformation 1 - reduceByKey:\n",
            "[('apple', 5), ('banana', 7), ('orange', 5), ('grape', 1)]\n",
            "Transformation 2 - flatMapValues:\n",
            "[('apple', 1), ('apple', 2), ('banana', 1), ('banana', 2), ('banana', 3), ('orange', 1), ('orange', 2), ('orange', 3), ('orange', 4), ('orange', 5), ('grape', 1), ('apple', 1), ('apple', 2), ('apple', 3), ('banana', 1), ('banana', 2), ('banana', 3), ('banana', 4)]\n",
            "Transformation 3 - distinct:\n",
            "[('apple', 2), ('banana', 3), ('orange', 5), ('grape', 1), ('apple', 3), ('banana', 4)]\n",
            "Action 1 - count: 6\n",
            "Action 2 - first: ('apple', 2)\n",
            "Action 3 - collectAsMap: {'apple': 3, 'banana': 4, 'orange': 5, 'grape': 1}\n"
          ]
        }
      ],
      "source": [
        "from pyspark import SparkContext, SparkConf\n",
        "\n",
        "# Set up Spark Context\n",
        "conf = SparkConf().setAppName(\"TransformationActionsExample\").setMaster(\"local\")\n",
        "sc = SparkContext(conf=conf)\n",
        "\n",
        "# Initial RDD\n",
        "data = [(\"apple\", 2), (\"banana\", 3), (\"orange\", 5), (\"grape\", 1), (\"apple\", 3), (\"banana\", 4)]\n",
        "rdd = sc.parallelize(data)\n",
        "\n",
        "# Transformation 1: reduceByKey\n",
        "rdd_reduced = rdd.reduceByKey(lambda x, y: x + y)\n",
        "print(\"Transformation 1 - reduceByKey:\")\n",
        "print(rdd_reduced.collect())\n",
        "\n",
        "# Transformation 2: flatMapValues\n",
        "rdd_flat_mapped = rdd.flatMapValues(lambda x: range(1, x + 1))\n",
        "print(\"Transformation 2 - flatMapValues:\")\n",
        "print(rdd_flat_mapped.collect())\n",
        "\n",
        "# Transformation 3: distinct\n",
        "rdd_distinct = rdd.distinct()\n",
        "print(\"Transformation 3 - distinct:\")\n",
        "print(rdd_distinct.collect())\n",
        "\n",
        "# Action 1: count\n",
        "count_result = rdd.count()\n",
        "print(\"Action 1 - count:\", count_result)\n",
        "\n",
        "# Action 2: first\n",
        "first_element = rdd.first()\n",
        "print(\"Action 2 - first:\", first_element)\n",
        "\n",
        "# Action 3: collectAsMap\n",
        "collected_map = rdd.collectAsMap()\n",
        "print(\"Action 3 - collectAsMap:\", collected_map)\n",
        "\n",
        "# Stop Spark Context\n",
        "sc.stop()"
      ]
    },
    {
      "cell_type": "markdown",
      "metadata": {
        "id": "-IwOYAv0_zcv"
      },
      "source": [
        "# Exercise 6"
      ]
    },
    {
      "cell_type": "markdown",
      "metadata": {
        "id": "te0hUFAw_064"
      },
      "source": [
        "### a)"
      ]
    },
    {
      "cell_type": "code",
      "execution_count": 3,
      "metadata": {
        "colab": {
          "base_uri": "https://localhost:8080/"
        },
        "id": "1_RrMjGE_2NX",
        "outputId": "d8fde7c2-e747-40e9-860e-e7cc9cc25149"
      },
      "outputs": [
        {
          "name": "stdout",
          "output_type": "stream",
          "text": [
            "+---+----------------+------+---------+-------------+------------------+-----------------+-------------+-----+------+------------+------------+--------------+--------------+------+\n",
            "|age|       workclass|fnlwgt|education|education_num|    marital_status|       occupation| relationship| race|   sex|capital_gain|capital_loss|hours_per_week|native_country|income|\n",
            "+---+----------------+------+---------+-------------+------------------+-----------------+-------------+-----+------+------------+------------+--------------+--------------+------+\n",
            "| 39|       State-gov| 77516|Bachelors|           13|     Never-married|     Adm-clerical|Not-in-family|White|  Male|        2174|           0|            40| United-States| <=50K|\n",
            "| 50|Self-emp-not-inc| 83311|Bachelors|           13|Married-civ-spouse|  Exec-managerial|      Husband|White|  Male|           0|           0|            13| United-States| <=50K|\n",
            "| 38|         Private|215646|  HS-grad|            9|          Divorced|Handlers-cleaners|Not-in-family|White|  Male|           0|           0|            40| United-States| <=50K|\n",
            "| 53|         Private|234721|     11th|            7|Married-civ-spouse|Handlers-cleaners|      Husband|Black|  Male|           0|           0|            40| United-States| <=50K|\n",
            "| 28|         Private|338409|Bachelors|           13|Married-civ-spouse|   Prof-specialty|         Wife|Black|Female|           0|           0|            40|          Cuba| <=50K|\n",
            "+---+----------------+------+---------+-------------+------------------+-----------------+-------------+-----+------+------------+------------+--------------+--------------+------+\n",
            "only showing top 5 rows\n",
            "\n",
            "root\n",
            " |-- age: integer (nullable = true)\n",
            " |-- workclass: string (nullable = true)\n",
            " |-- fnlwgt: integer (nullable = true)\n",
            " |-- education: string (nullable = true)\n",
            " |-- education_num: integer (nullable = true)\n",
            " |-- marital_status: string (nullable = true)\n",
            " |-- occupation: string (nullable = true)\n",
            " |-- relationship: string (nullable = true)\n",
            " |-- race: string (nullable = true)\n",
            " |-- sex: string (nullable = true)\n",
            " |-- capital_gain: integer (nullable = true)\n",
            " |-- capital_loss: integer (nullable = true)\n",
            " |-- hours_per_week: integer (nullable = true)\n",
            " |-- native_country: string (nullable = true)\n",
            " |-- income: string (nullable = true)\n",
            "\n"
          ]
        }
      ],
      "source": [
        "from pyspark.sql import SparkSession\n",
        "from pyspark.sql.functions import col, trim\n",
        "from pyspark.sql.types import IntegerType, StringType\n",
        "\n",
        "# Initialize Spark session\n",
        "spark = SparkSession.builder.appName(\"Exercise6\").getOrCreate()\n",
        "\n",
        "# Load the raw data as a DataFrame without enforcing a schema\n",
        "data_path = \"adult.data\"\n",
        "raw_df = spark.read.csv(data_path, header=False, inferSchema=False)\n",
        "\n",
        "# Assign column names manually based on the dataset's structure\n",
        "column_names = [\"age\", \"workclass\", \"fnlwgt\", \"education\", \"education_num\",\n",
        "                \"marital_status\", \"occupation\", \"relationship\", \"race\",\n",
        "                \"sex\", \"capital_gain\", \"capital_loss\", \"hours_per_week\",\n",
        "                \"native_country\", \"income\"]\n",
        "raw_df = raw_df.toDF(*column_names)\n",
        "\n",
        "# Trim any leading or trailing whitespaces from all string columns\n",
        "for col_name in raw_df.columns:\n",
        "    raw_df = raw_df.withColumn(col_name, trim(col(col_name).cast(StringType())))\n",
        "\n",
        "# Convert columns to appropriate data types, handling non-numeric values\n",
        "def safe_cast_to_int(column):\n",
        "    return col(column).cast(IntegerType()).alias(column)\n",
        "\n",
        "# Applying integer casting only to known integer columns\n",
        "df = raw_df.select(\n",
        "    safe_cast_to_int(\"age\"),\n",
        "    col(\"workclass\"),\n",
        "    safe_cast_to_int(\"fnlwgt\"),\n",
        "    col(\"education\"),\n",
        "    safe_cast_to_int(\"education_num\"),\n",
        "    col(\"marital_status\"),\n",
        "    col(\"occupation\"),\n",
        "    col(\"relationship\"),\n",
        "    col(\"race\"),\n",
        "    col(\"sex\"),\n",
        "    safe_cast_to_int(\"capital_gain\"),\n",
        "    safe_cast_to_int(\"capital_loss\"),\n",
        "    safe_cast_to_int(\"hours_per_week\"),\n",
        "    col(\"native_country\"),\n",
        "    col(\"income\")\n",
        ")\n",
        "\n",
        "# Drop rows where casting failed (i.e., nulls were introduced due to non-numeric values)\n",
        "df = df.na.drop()\n",
        "\n",
        "# Verify data by showing a small sample\n",
        "df.show(5)\n",
        "df.printSchema()"
      ]
    },
    {
      "cell_type": "markdown",
      "metadata": {
        "id": "Np64RdJ8_7Gl"
      },
      "source": [
        "### b)"
      ]
    },
    {
      "cell_type": "code",
      "execution_count": 4,
      "metadata": {
        "colab": {
          "base_uri": "https://localhost:8080/"
        },
        "id": "lXitrtcL_8YD",
        "outputId": "b6660ab6-99b3-4a84-8285-fb908d0a1000"
      },
      "outputs": [
        {
          "name": "stdout",
          "output_type": "stream",
          "text": [
            "+--------------------+-------------------+\n",
            "|      marital_status|         male_ratio|\n",
            "+--------------------+-------------------+\n",
            "|           Separated|0.38439024390243903|\n",
            "|       Never-married| 0.5537770289244595|\n",
            "|Married-spouse-ab...| 0.5095693779904307|\n",
            "|            Divorced|0.39860454647760524|\n",
            "|             Widowed| 0.1691842900302115|\n",
            "|   Married-AF-spouse|  0.391304347826087|\n",
            "|  Married-civ-spouse| 0.8893563034188035|\n",
            "+--------------------+-------------------+\n",
            "\n"
          ]
        }
      ],
      "source": [
        "from pyspark.sql.functions import col\n",
        "\n",
        "# Total count for each marital status\n",
        "total_count_df = df.groupBy(\"marital_status\").count().withColumnRenamed(\"count\", \"total_count\")\n",
        "\n",
        "# Count of males for each marital status\n",
        "male_count_df = df.filter(col(\"sex\") == \"Male\").groupBy(\"marital_status\").count().withColumnRenamed(\"count\", \"male_count\")\n",
        "\n",
        "# Join the total and male counts, then calculate the male ratio\n",
        "marital_status_ratio = total_count_df.join(male_count_df, \"marital_status\", \"left\") \\\n",
        "    .withColumn(\"male_ratio\", col(\"male_count\") / col(\"total_count\"))\n",
        "\n",
        "# Show only necessary columns\n",
        "marital_status_ratio.select(\"marital_status\", \"male_ratio\").show()"
      ]
    },
    {
      "cell_type": "markdown",
      "metadata": {
        "id": "NYFdVam7_-rO"
      },
      "source": [
        "### c)"
      ]
    },
    {
      "cell_type": "code",
      "execution_count": 5,
      "metadata": {
        "colab": {
          "base_uri": "https://localhost:8080/"
        },
        "id": "2QYaIsqaAAKn",
        "outputId": "ffd05bd7-2862-4396-db55-3f74de003977"
      },
      "outputs": [
        {
          "name": "stdout",
          "output_type": "stream",
          "text": [
            "+------------------+------------------+\n",
            "|    native_country|avg_hours_per_week|\n",
            "+------------------+------------------+\n",
            "|       Philippines|40.083333333333336|\n",
            "|           Germany| 36.57142857142857|\n",
            "|            France|              45.0|\n",
            "|            Greece|              65.0|\n",
            "|            Taiwan|             36.75|\n",
            "|         Nicaragua|              35.0|\n",
            "|              Hong|              40.0|\n",
            "|             India|              38.5|\n",
            "|             China|              33.6|\n",
            "|             Italy|              42.0|\n",
            "|              Cuba|              23.0|\n",
            "|             South|56.666666666666664|\n",
            "|              Iran|              40.0|\n",
            "|           Ireland|              40.0|\n",
            "|          Thailand|              50.0|\n",
            "|              Laos|              40.0|\n",
            "|       El-Salvador|              40.0|\n",
            "|            Mexico|              35.0|\n",
            "|          Honduras|              60.0|\n",
            "|        Yugoslavia|              40.0|\n",
            "|       Puerto-Rico|              37.5|\n",
            "|           Jamaica|              38.0|\n",
            "|            Canada|46.111111111111114|\n",
            "|     United-States|40.492537313432834|\n",
            "|Dominican-Republic|              47.0|\n",
            "|             Japan|              38.6|\n",
            "|           England|              38.0|\n",
            "|             Haiti|              35.0|\n",
            "|            Poland|              45.0|\n",
            "|          Portugal|              43.0|\n",
            "|                 ?| 35.76470588235294|\n",
            "|          Scotland|              40.0|\n",
            "|           Hungary|              40.0|\n",
            "|           Vietnam|              40.0|\n",
            "+------------------+------------------+\n",
            "\n"
          ]
        }
      ],
      "source": [
        "from pyspark.sql.functions import avg\n",
        "\n",
        "# Filter for females with income >50K\n",
        "female_high_income_df = df.filter((col(\"sex\") == \"Female\") & (col(\"income\") == \">50K\"))\n",
        "\n",
        "# Calculate average hours per week per native country\n",
        "avg_hours_per_country = female_high_income_df.groupBy(\"native_country\").agg(avg(\"hours_per_week\").alias(\"avg_hours_per_week\"))\n",
        "\n",
        "# Show results\n",
        "avg_hours_per_country.show(avg_hours_per_country.count())"
      ]
    },
    {
      "cell_type": "markdown",
      "metadata": {
        "id": "ADheWCRTADCm"
      },
      "source": [
        "### d)"
      ]
    },
    {
      "cell_type": "code",
      "execution_count": 6,
      "metadata": {
        "colab": {
          "base_uri": "https://localhost:8080/"
        },
        "id": "Y0-HgBtxAD6T",
        "outputId": "58bbbf68-ef15-4c0a-a488-19987e9799b6"
      },
      "outputs": [
        {
          "name": "stdout",
          "output_type": "stream",
          "text": [
            "+------+-----------------+----------------+\n",
            "|income|highest_education|lowest_education|\n",
            "+------+-----------------+----------------+\n",
            "| <=50K|        Doctorate|       Preschool|\n",
            "|  >50K|        Doctorate|         1st-4th|\n",
            "+------+-----------------+----------------+\n",
            "\n"
          ]
        }
      ],
      "source": [
        "from pyspark.sql.functions import col, max, min\n",
        "\n",
        "# Create distinct dataframes for highest and lowest education levels with different column names\n",
        "highest_education_df = df.select(\"education_num\", \"education\").distinct().withColumnRenamed(\"education_num\", \"highest_education_num\").withColumnRenamed(\"education\", \"highest_education\")\n",
        "lowest_education_df = df.select(\"education_num\", \"education\").distinct().withColumnRenamed(\"education_num\", \"lowest_education_num\").withColumnRenamed(\"education\", \"lowest_education\")\n",
        "\n",
        "# Compute highest and lowest education levels for each income group\n",
        "education_levels = df.groupBy(\"income\") \\\n",
        "    .agg(\n",
        "        max(\"education_num\").alias(\"highest_education_num\"),\n",
        "        min(\"education_num\").alias(\"lowest_education_num\")\n",
        "    ) \\\n",
        "    .join(highest_education_df, on=\"highest_education_num\", how=\"left\") \\\n",
        "    .join(lowest_education_df, on=\"lowest_education_num\", how=\"left\") \\\n",
        "    .select(\"income\", \"highest_education\", \"lowest_education\")\n",
        "\n",
        "# Show results\n",
        "education_levels.show()"
      ]
    }
  ],
  "metadata": {
    "colab": {
      "provenance": []
    },
    "kernelspec": {
      "display_name": "MMD",
      "language": "python",
      "name": "python3"
    },
    "language_info": {
      "codemirror_mode": {
        "name": "ipython",
        "version": 3
      },
      "file_extension": ".py",
      "mimetype": "text/x-python",
      "name": "python",
      "nbconvert_exporter": "python",
      "pygments_lexer": "ipython3",
      "version": "3.9.18"
    }
  },
  "nbformat": 4,
  "nbformat_minor": 0
}
